{
  "nbformat": 4,
  "nbformat_minor": 0,
  "metadata": {
    "colab": {
      "provenance": []
    },
    "kernelspec": {
      "name": "python3",
      "display_name": "Python 3"
    },
    "language_info": {
      "name": "python"
    }
  },
  "cells": [
    {
      "cell_type": "markdown",
      "source": [
        " Step 1: Data Extraction"
      ],
      "metadata": {
        "id": "VNbkkGF9XMcP"
      }
    },
    {
      "cell_type": "markdown",
      "source": [
        "Uploading the dataset in Google Colab"
      ],
      "metadata": {
        "id": "e5oByhUVXZYf"
      }
    },
    {
      "cell_type": "code",
      "execution_count": null,
      "metadata": {
        "colab": {
          "base_uri": "https://localhost:8080/",
          "height": 73
        },
        "id": "u4R_Ss6FGhdD",
        "outputId": "b7e123c8-6637-4292-9598-4f23e4fcd69d"
      },
      "outputs": [
        {
          "output_type": "display_data",
          "data": {
            "text/plain": [
              "<IPython.core.display.HTML object>"
            ],
            "text/html": [
              "\n",
              "     <input type=\"file\" id=\"files-842f421a-6bae-41fc-ab8f-b921437399de\" name=\"files[]\" multiple disabled\n",
              "        style=\"border:none\" />\n",
              "     <output id=\"result-842f421a-6bae-41fc-ab8f-b921437399de\">\n",
              "      Upload widget is only available when the cell has been executed in the\n",
              "      current browser session. Please rerun this cell to enable.\n",
              "      </output>\n",
              "      <script>// Copyright 2017 Google LLC\n",
              "//\n",
              "// Licensed under the Apache License, Version 2.0 (the \"License\");\n",
              "// you may not use this file except in compliance with the License.\n",
              "// You may obtain a copy of the License at\n",
              "//\n",
              "//      http://www.apache.org/licenses/LICENSE-2.0\n",
              "//\n",
              "// Unless required by applicable law or agreed to in writing, software\n",
              "// distributed under the License is distributed on an \"AS IS\" BASIS,\n",
              "// WITHOUT WARRANTIES OR CONDITIONS OF ANY KIND, either express or implied.\n",
              "// See the License for the specific language governing permissions and\n",
              "// limitations under the License.\n",
              "\n",
              "/**\n",
              " * @fileoverview Helpers for google.colab Python module.\n",
              " */\n",
              "(function(scope) {\n",
              "function span(text, styleAttributes = {}) {\n",
              "  const element = document.createElement('span');\n",
              "  element.textContent = text;\n",
              "  for (const key of Object.keys(styleAttributes)) {\n",
              "    element.style[key] = styleAttributes[key];\n",
              "  }\n",
              "  return element;\n",
              "}\n",
              "\n",
              "// Max number of bytes which will be uploaded at a time.\n",
              "const MAX_PAYLOAD_SIZE = 100 * 1024;\n",
              "\n",
              "function _uploadFiles(inputId, outputId) {\n",
              "  const steps = uploadFilesStep(inputId, outputId);\n",
              "  const outputElement = document.getElementById(outputId);\n",
              "  // Cache steps on the outputElement to make it available for the next call\n",
              "  // to uploadFilesContinue from Python.\n",
              "  outputElement.steps = steps;\n",
              "\n",
              "  return _uploadFilesContinue(outputId);\n",
              "}\n",
              "\n",
              "// This is roughly an async generator (not supported in the browser yet),\n",
              "// where there are multiple asynchronous steps and the Python side is going\n",
              "// to poll for completion of each step.\n",
              "// This uses a Promise to block the python side on completion of each step,\n",
              "// then passes the result of the previous step as the input to the next step.\n",
              "function _uploadFilesContinue(outputId) {\n",
              "  const outputElement = document.getElementById(outputId);\n",
              "  const steps = outputElement.steps;\n",
              "\n",
              "  const next = steps.next(outputElement.lastPromiseValue);\n",
              "  return Promise.resolve(next.value.promise).then((value) => {\n",
              "    // Cache the last promise value to make it available to the next\n",
              "    // step of the generator.\n",
              "    outputElement.lastPromiseValue = value;\n",
              "    return next.value.response;\n",
              "  });\n",
              "}\n",
              "\n",
              "/**\n",
              " * Generator function which is called between each async step of the upload\n",
              " * process.\n",
              " * @param {string} inputId Element ID of the input file picker element.\n",
              " * @param {string} outputId Element ID of the output display.\n",
              " * @return {!Iterable<!Object>} Iterable of next steps.\n",
              " */\n",
              "function* uploadFilesStep(inputId, outputId) {\n",
              "  const inputElement = document.getElementById(inputId);\n",
              "  inputElement.disabled = false;\n",
              "\n",
              "  const outputElement = document.getElementById(outputId);\n",
              "  outputElement.innerHTML = '';\n",
              "\n",
              "  const pickedPromise = new Promise((resolve) => {\n",
              "    inputElement.addEventListener('change', (e) => {\n",
              "      resolve(e.target.files);\n",
              "    });\n",
              "  });\n",
              "\n",
              "  const cancel = document.createElement('button');\n",
              "  inputElement.parentElement.appendChild(cancel);\n",
              "  cancel.textContent = 'Cancel upload';\n",
              "  const cancelPromise = new Promise((resolve) => {\n",
              "    cancel.onclick = () => {\n",
              "      resolve(null);\n",
              "    };\n",
              "  });\n",
              "\n",
              "  // Wait for the user to pick the files.\n",
              "  const files = yield {\n",
              "    promise: Promise.race([pickedPromise, cancelPromise]),\n",
              "    response: {\n",
              "      action: 'starting',\n",
              "    }\n",
              "  };\n",
              "\n",
              "  cancel.remove();\n",
              "\n",
              "  // Disable the input element since further picks are not allowed.\n",
              "  inputElement.disabled = true;\n",
              "\n",
              "  if (!files) {\n",
              "    return {\n",
              "      response: {\n",
              "        action: 'complete',\n",
              "      }\n",
              "    };\n",
              "  }\n",
              "\n",
              "  for (const file of files) {\n",
              "    const li = document.createElement('li');\n",
              "    li.append(span(file.name, {fontWeight: 'bold'}));\n",
              "    li.append(span(\n",
              "        `(${file.type || 'n/a'}) - ${file.size} bytes, ` +\n",
              "        `last modified: ${\n",
              "            file.lastModifiedDate ? file.lastModifiedDate.toLocaleDateString() :\n",
              "                                    'n/a'} - `));\n",
              "    const percent = span('0% done');\n",
              "    li.appendChild(percent);\n",
              "\n",
              "    outputElement.appendChild(li);\n",
              "\n",
              "    const fileDataPromise = new Promise((resolve) => {\n",
              "      const reader = new FileReader();\n",
              "      reader.onload = (e) => {\n",
              "        resolve(e.target.result);\n",
              "      };\n",
              "      reader.readAsArrayBuffer(file);\n",
              "    });\n",
              "    // Wait for the data to be ready.\n",
              "    let fileData = yield {\n",
              "      promise: fileDataPromise,\n",
              "      response: {\n",
              "        action: 'continue',\n",
              "      }\n",
              "    };\n",
              "\n",
              "    // Use a chunked sending to avoid message size limits. See b/62115660.\n",
              "    let position = 0;\n",
              "    do {\n",
              "      const length = Math.min(fileData.byteLength - position, MAX_PAYLOAD_SIZE);\n",
              "      const chunk = new Uint8Array(fileData, position, length);\n",
              "      position += length;\n",
              "\n",
              "      const base64 = btoa(String.fromCharCode.apply(null, chunk));\n",
              "      yield {\n",
              "        response: {\n",
              "          action: 'append',\n",
              "          file: file.name,\n",
              "          data: base64,\n",
              "        },\n",
              "      };\n",
              "\n",
              "      let percentDone = fileData.byteLength === 0 ?\n",
              "          100 :\n",
              "          Math.round((position / fileData.byteLength) * 100);\n",
              "      percent.textContent = `${percentDone}% done`;\n",
              "\n",
              "    } while (position < fileData.byteLength);\n",
              "  }\n",
              "\n",
              "  // All done.\n",
              "  yield {\n",
              "    response: {\n",
              "      action: 'complete',\n",
              "    }\n",
              "  };\n",
              "}\n",
              "\n",
              "scope.google = scope.google || {};\n",
              "scope.google.colab = scope.google.colab || {};\n",
              "scope.google.colab._files = {\n",
              "  _uploadFiles,\n",
              "  _uploadFilesContinue,\n",
              "};\n",
              "})(self);\n",
              "</script> "
            ]
          },
          "metadata": {}
        },
        {
          "output_type": "stream",
          "name": "stdout",
          "text": [
            "Saving weatherHistory1.csv to weatherHistory1.csv\n"
          ]
        }
      ],
      "source": [
        "from google.colab import files\n",
        "uploaded = files.upload()"
      ]
    },
    {
      "cell_type": "markdown",
      "source": [
        "Uploaded it using pandas"
      ],
      "metadata": {
        "id": "bmgIFIuTXyIJ"
      }
    },
    {
      "cell_type": "code",
      "source": [
        "import pandas as pd\n",
        "\n",
        "# Replace with your actual file name\n",
        "df = pd.read_csv('weatherHistory1.csv')\n",
        "df.head()"
      ],
      "metadata": {
        "colab": {
          "base_uri": "https://localhost:8080/",
          "height": 414
        },
        "id": "3Pv77JjsHTQP",
        "outputId": "c5b33ce3-ba56-495e-9fb4-e1d00e128678"
      },
      "execution_count": null,
      "outputs": [
        {
          "output_type": "execute_result",
          "data": {
            "text/plain": [
              "                  Formatted Date        Summary Precip Type  Temperature (C)  \\\n",
              "0  2006-04-01 00:00:00.000 +0200  Partly Cloudy        rain         9.472222   \n",
              "1  2006-04-01 01:00:00.000 +0200  Partly Cloudy        rain         9.355556   \n",
              "2  2006-04-01 02:00:00.000 +0200  Mostly Cloudy        rain         9.377778   \n",
              "3  2006-04-01 03:00:00.000 +0200  Partly Cloudy        rain         8.288889   \n",
              "4  2006-04-01 04:00:00.000 +0200  Mostly Cloudy        rain         8.755556   \n",
              "\n",
              "   Apparent Temperature (C)  Humidity  Wind Speed (km/h)  \\\n",
              "0                  7.388889      0.89            14.1197   \n",
              "1                  7.227778      0.86            14.2646   \n",
              "2                  9.377778      0.89             3.9284   \n",
              "3                  5.944444      0.83            14.1036   \n",
              "4                  6.977778      0.83            11.0446   \n",
              "\n",
              "   Wind Bearing (degrees)  Visibility (km)  Loud Cover  Pressure (millibars)  \\\n",
              "0                   251.0          15.8263         0.0               1015.13   \n",
              "1                   259.0          15.8263         0.0               1015.63   \n",
              "2                   204.0          14.9569         0.0               1015.94   \n",
              "3                   269.0          15.8263         0.0               1016.41   \n",
              "4                   259.0          15.8263         0.0               1016.51   \n",
              "\n",
              "                       Daily Summary  \n",
              "0  Partly cloudy throughout the day.  \n",
              "1  Partly cloudy throughout the day.  \n",
              "2  Partly cloudy throughout the day.  \n",
              "3  Partly cloudy throughout the day.  \n",
              "4  Partly cloudy throughout the day.  "
            ],
            "text/html": [
              "\n",
              "  <div id=\"df-697fa4b1-00d3-4aaa-af5f-3c6586a034ca\" class=\"colab-df-container\">\n",
              "    <div>\n",
              "<style scoped>\n",
              "    .dataframe tbody tr th:only-of-type {\n",
              "        vertical-align: middle;\n",
              "    }\n",
              "\n",
              "    .dataframe tbody tr th {\n",
              "        vertical-align: top;\n",
              "    }\n",
              "\n",
              "    .dataframe thead th {\n",
              "        text-align: right;\n",
              "    }\n",
              "</style>\n",
              "<table border=\"1\" class=\"dataframe\">\n",
              "  <thead>\n",
              "    <tr style=\"text-align: right;\">\n",
              "      <th></th>\n",
              "      <th>Formatted Date</th>\n",
              "      <th>Summary</th>\n",
              "      <th>Precip Type</th>\n",
              "      <th>Temperature (C)</th>\n",
              "      <th>Apparent Temperature (C)</th>\n",
              "      <th>Humidity</th>\n",
              "      <th>Wind Speed (km/h)</th>\n",
              "      <th>Wind Bearing (degrees)</th>\n",
              "      <th>Visibility (km)</th>\n",
              "      <th>Loud Cover</th>\n",
              "      <th>Pressure (millibars)</th>\n",
              "      <th>Daily Summary</th>\n",
              "    </tr>\n",
              "  </thead>\n",
              "  <tbody>\n",
              "    <tr>\n",
              "      <th>0</th>\n",
              "      <td>2006-04-01 00:00:00.000 +0200</td>\n",
              "      <td>Partly Cloudy</td>\n",
              "      <td>rain</td>\n",
              "      <td>9.472222</td>\n",
              "      <td>7.388889</td>\n",
              "      <td>0.89</td>\n",
              "      <td>14.1197</td>\n",
              "      <td>251.0</td>\n",
              "      <td>15.8263</td>\n",
              "      <td>0.0</td>\n",
              "      <td>1015.13</td>\n",
              "      <td>Partly cloudy throughout the day.</td>\n",
              "    </tr>\n",
              "    <tr>\n",
              "      <th>1</th>\n",
              "      <td>2006-04-01 01:00:00.000 +0200</td>\n",
              "      <td>Partly Cloudy</td>\n",
              "      <td>rain</td>\n",
              "      <td>9.355556</td>\n",
              "      <td>7.227778</td>\n",
              "      <td>0.86</td>\n",
              "      <td>14.2646</td>\n",
              "      <td>259.0</td>\n",
              "      <td>15.8263</td>\n",
              "      <td>0.0</td>\n",
              "      <td>1015.63</td>\n",
              "      <td>Partly cloudy throughout the day.</td>\n",
              "    </tr>\n",
              "    <tr>\n",
              "      <th>2</th>\n",
              "      <td>2006-04-01 02:00:00.000 +0200</td>\n",
              "      <td>Mostly Cloudy</td>\n",
              "      <td>rain</td>\n",
              "      <td>9.377778</td>\n",
              "      <td>9.377778</td>\n",
              "      <td>0.89</td>\n",
              "      <td>3.9284</td>\n",
              "      <td>204.0</td>\n",
              "      <td>14.9569</td>\n",
              "      <td>0.0</td>\n",
              "      <td>1015.94</td>\n",
              "      <td>Partly cloudy throughout the day.</td>\n",
              "    </tr>\n",
              "    <tr>\n",
              "      <th>3</th>\n",
              "      <td>2006-04-01 03:00:00.000 +0200</td>\n",
              "      <td>Partly Cloudy</td>\n",
              "      <td>rain</td>\n",
              "      <td>8.288889</td>\n",
              "      <td>5.944444</td>\n",
              "      <td>0.83</td>\n",
              "      <td>14.1036</td>\n",
              "      <td>269.0</td>\n",
              "      <td>15.8263</td>\n",
              "      <td>0.0</td>\n",
              "      <td>1016.41</td>\n",
              "      <td>Partly cloudy throughout the day.</td>\n",
              "    </tr>\n",
              "    <tr>\n",
              "      <th>4</th>\n",
              "      <td>2006-04-01 04:00:00.000 +0200</td>\n",
              "      <td>Mostly Cloudy</td>\n",
              "      <td>rain</td>\n",
              "      <td>8.755556</td>\n",
              "      <td>6.977778</td>\n",
              "      <td>0.83</td>\n",
              "      <td>11.0446</td>\n",
              "      <td>259.0</td>\n",
              "      <td>15.8263</td>\n",
              "      <td>0.0</td>\n",
              "      <td>1016.51</td>\n",
              "      <td>Partly cloudy throughout the day.</td>\n",
              "    </tr>\n",
              "  </tbody>\n",
              "</table>\n",
              "</div>\n",
              "    <div class=\"colab-df-buttons\">\n",
              "\n",
              "  <div class=\"colab-df-container\">\n",
              "    <button class=\"colab-df-convert\" onclick=\"convertToInteractive('df-697fa4b1-00d3-4aaa-af5f-3c6586a034ca')\"\n",
              "            title=\"Convert this dataframe to an interactive table.\"\n",
              "            style=\"display:none;\">\n",
              "\n",
              "  <svg xmlns=\"http://www.w3.org/2000/svg\" height=\"24px\" viewBox=\"0 -960 960 960\">\n",
              "    <path d=\"M120-120v-720h720v720H120Zm60-500h600v-160H180v160Zm220 220h160v-160H400v160Zm0 220h160v-160H400v160ZM180-400h160v-160H180v160Zm440 0h160v-160H620v160ZM180-180h160v-160H180v160Zm440 0h160v-160H620v160Z\"/>\n",
              "  </svg>\n",
              "    </button>\n",
              "\n",
              "  <style>\n",
              "    .colab-df-container {\n",
              "      display:flex;\n",
              "      gap: 12px;\n",
              "    }\n",
              "\n",
              "    .colab-df-convert {\n",
              "      background-color: #E8F0FE;\n",
              "      border: none;\n",
              "      border-radius: 50%;\n",
              "      cursor: pointer;\n",
              "      display: none;\n",
              "      fill: #1967D2;\n",
              "      height: 32px;\n",
              "      padding: 0 0 0 0;\n",
              "      width: 32px;\n",
              "    }\n",
              "\n",
              "    .colab-df-convert:hover {\n",
              "      background-color: #E2EBFA;\n",
              "      box-shadow: 0px 1px 2px rgba(60, 64, 67, 0.3), 0px 1px 3px 1px rgba(60, 64, 67, 0.15);\n",
              "      fill: #174EA6;\n",
              "    }\n",
              "\n",
              "    .colab-df-buttons div {\n",
              "      margin-bottom: 4px;\n",
              "    }\n",
              "\n",
              "    [theme=dark] .colab-df-convert {\n",
              "      background-color: #3B4455;\n",
              "      fill: #D2E3FC;\n",
              "    }\n",
              "\n",
              "    [theme=dark] .colab-df-convert:hover {\n",
              "      background-color: #434B5C;\n",
              "      box-shadow: 0px 1px 3px 1px rgba(0, 0, 0, 0.15);\n",
              "      filter: drop-shadow(0px 1px 2px rgba(0, 0, 0, 0.3));\n",
              "      fill: #FFFFFF;\n",
              "    }\n",
              "  </style>\n",
              "\n",
              "    <script>\n",
              "      const buttonEl =\n",
              "        document.querySelector('#df-697fa4b1-00d3-4aaa-af5f-3c6586a034ca button.colab-df-convert');\n",
              "      buttonEl.style.display =\n",
              "        google.colab.kernel.accessAllowed ? 'block' : 'none';\n",
              "\n",
              "      async function convertToInteractive(key) {\n",
              "        const element = document.querySelector('#df-697fa4b1-00d3-4aaa-af5f-3c6586a034ca');\n",
              "        const dataTable =\n",
              "          await google.colab.kernel.invokeFunction('convertToInteractive',\n",
              "                                                    [key], {});\n",
              "        if (!dataTable) return;\n",
              "\n",
              "        const docLinkHtml = 'Like what you see? Visit the ' +\n",
              "          '<a target=\"_blank\" href=https://colab.research.google.com/notebooks/data_table.ipynb>data table notebook</a>'\n",
              "          + ' to learn more about interactive tables.';\n",
              "        element.innerHTML = '';\n",
              "        dataTable['output_type'] = 'display_data';\n",
              "        await google.colab.output.renderOutput(dataTable, element);\n",
              "        const docLink = document.createElement('div');\n",
              "        docLink.innerHTML = docLinkHtml;\n",
              "        element.appendChild(docLink);\n",
              "      }\n",
              "    </script>\n",
              "  </div>\n",
              "\n",
              "\n",
              "<div id=\"df-560d8ee0-a778-48b3-b50a-453ce83f0011\">\n",
              "  <button class=\"colab-df-quickchart\" onclick=\"quickchart('df-560d8ee0-a778-48b3-b50a-453ce83f0011')\"\n",
              "            title=\"Suggest charts\"\n",
              "            style=\"display:none;\">\n",
              "\n",
              "<svg xmlns=\"http://www.w3.org/2000/svg\" height=\"24px\"viewBox=\"0 0 24 24\"\n",
              "     width=\"24px\">\n",
              "    <g>\n",
              "        <path d=\"M19 3H5c-1.1 0-2 .9-2 2v14c0 1.1.9 2 2 2h14c1.1 0 2-.9 2-2V5c0-1.1-.9-2-2-2zM9 17H7v-7h2v7zm4 0h-2V7h2v10zm4 0h-2v-4h2v4z\"/>\n",
              "    </g>\n",
              "</svg>\n",
              "  </button>\n",
              "\n",
              "<style>\n",
              "  .colab-df-quickchart {\n",
              "      --bg-color: #E8F0FE;\n",
              "      --fill-color: #1967D2;\n",
              "      --hover-bg-color: #E2EBFA;\n",
              "      --hover-fill-color: #174EA6;\n",
              "      --disabled-fill-color: #AAA;\n",
              "      --disabled-bg-color: #DDD;\n",
              "  }\n",
              "\n",
              "  [theme=dark] .colab-df-quickchart {\n",
              "      --bg-color: #3B4455;\n",
              "      --fill-color: #D2E3FC;\n",
              "      --hover-bg-color: #434B5C;\n",
              "      --hover-fill-color: #FFFFFF;\n",
              "      --disabled-bg-color: #3B4455;\n",
              "      --disabled-fill-color: #666;\n",
              "  }\n",
              "\n",
              "  .colab-df-quickchart {\n",
              "    background-color: var(--bg-color);\n",
              "    border: none;\n",
              "    border-radius: 50%;\n",
              "    cursor: pointer;\n",
              "    display: none;\n",
              "    fill: var(--fill-color);\n",
              "    height: 32px;\n",
              "    padding: 0;\n",
              "    width: 32px;\n",
              "  }\n",
              "\n",
              "  .colab-df-quickchart:hover {\n",
              "    background-color: var(--hover-bg-color);\n",
              "    box-shadow: 0 1px 2px rgba(60, 64, 67, 0.3), 0 1px 3px 1px rgba(60, 64, 67, 0.15);\n",
              "    fill: var(--button-hover-fill-color);\n",
              "  }\n",
              "\n",
              "  .colab-df-quickchart-complete:disabled,\n",
              "  .colab-df-quickchart-complete:disabled:hover {\n",
              "    background-color: var(--disabled-bg-color);\n",
              "    fill: var(--disabled-fill-color);\n",
              "    box-shadow: none;\n",
              "  }\n",
              "\n",
              "  .colab-df-spinner {\n",
              "    border: 2px solid var(--fill-color);\n",
              "    border-color: transparent;\n",
              "    border-bottom-color: var(--fill-color);\n",
              "    animation:\n",
              "      spin 1s steps(1) infinite;\n",
              "  }\n",
              "\n",
              "  @keyframes spin {\n",
              "    0% {\n",
              "      border-color: transparent;\n",
              "      border-bottom-color: var(--fill-color);\n",
              "      border-left-color: var(--fill-color);\n",
              "    }\n",
              "    20% {\n",
              "      border-color: transparent;\n",
              "      border-left-color: var(--fill-color);\n",
              "      border-top-color: var(--fill-color);\n",
              "    }\n",
              "    30% {\n",
              "      border-color: transparent;\n",
              "      border-left-color: var(--fill-color);\n",
              "      border-top-color: var(--fill-color);\n",
              "      border-right-color: var(--fill-color);\n",
              "    }\n",
              "    40% {\n",
              "      border-color: transparent;\n",
              "      border-right-color: var(--fill-color);\n",
              "      border-top-color: var(--fill-color);\n",
              "    }\n",
              "    60% {\n",
              "      border-color: transparent;\n",
              "      border-right-color: var(--fill-color);\n",
              "    }\n",
              "    80% {\n",
              "      border-color: transparent;\n",
              "      border-right-color: var(--fill-color);\n",
              "      border-bottom-color: var(--fill-color);\n",
              "    }\n",
              "    90% {\n",
              "      border-color: transparent;\n",
              "      border-bottom-color: var(--fill-color);\n",
              "    }\n",
              "  }\n",
              "</style>\n",
              "\n",
              "  <script>\n",
              "    async function quickchart(key) {\n",
              "      const quickchartButtonEl =\n",
              "        document.querySelector('#' + key + ' button');\n",
              "      quickchartButtonEl.disabled = true;  // To prevent multiple clicks.\n",
              "      quickchartButtonEl.classList.add('colab-df-spinner');\n",
              "      try {\n",
              "        const charts = await google.colab.kernel.invokeFunction(\n",
              "            'suggestCharts', [key], {});\n",
              "      } catch (error) {\n",
              "        console.error('Error during call to suggestCharts:', error);\n",
              "      }\n",
              "      quickchartButtonEl.classList.remove('colab-df-spinner');\n",
              "      quickchartButtonEl.classList.add('colab-df-quickchart-complete');\n",
              "    }\n",
              "    (() => {\n",
              "      let quickchartButtonEl =\n",
              "        document.querySelector('#df-560d8ee0-a778-48b3-b50a-453ce83f0011 button');\n",
              "      quickchartButtonEl.style.display =\n",
              "        google.colab.kernel.accessAllowed ? 'block' : 'none';\n",
              "    })();\n",
              "  </script>\n",
              "</div>\n",
              "\n",
              "    </div>\n",
              "  </div>\n"
            ],
            "application/vnd.google.colaboratory.intrinsic+json": {
              "type": "dataframe",
              "variable_name": "df",
              "summary": "{\n  \"name\": \"df\",\n  \"rows\": 96453,\n  \"fields\": [\n    {\n      \"column\": \"Formatted Date\",\n      \"properties\": {\n        \"dtype\": \"object\",\n        \"num_unique_values\": 96429,\n        \"samples\": [\n          \"2008-10-17 17:00:00.000 +0200\",\n          \"2014-11-02 03:00:00.000 +0100\",\n          \"2008-06-18 01:00:00.000 +0200\"\n        ],\n        \"semantic_type\": \"\",\n        \"description\": \"\"\n      }\n    },\n    {\n      \"column\": \"Summary\",\n      \"properties\": {\n        \"dtype\": \"category\",\n        \"num_unique_values\": 27,\n        \"samples\": [\n          \"Humid and Mostly Cloudy\",\n          \"Windy and Partly Cloudy\",\n          \"Humid and Partly Cloudy\"\n        ],\n        \"semantic_type\": \"\",\n        \"description\": \"\"\n      }\n    },\n    {\n      \"column\": \"Precip Type\",\n      \"properties\": {\n        \"dtype\": \"category\",\n        \"num_unique_values\": 2,\n        \"samples\": [\n          \"snow\",\n          \"rain\"\n        ],\n        \"semantic_type\": \"\",\n        \"description\": \"\"\n      }\n    },\n    {\n      \"column\": \"Temperature (C)\",\n      \"properties\": {\n        \"dtype\": \"number\",\n        \"std\": 9.551546320656923,\n        \"min\": -21.822222222222223,\n        \"max\": 39.90555555555555,\n        \"num_unique_values\": 7574,\n        \"samples\": [\n          34.8111111111111,\n          14.955555555555556\n        ],\n        \"semantic_type\": \"\",\n        \"description\": \"\"\n      }\n    },\n    {\n      \"column\": \"Apparent Temperature (C)\",\n      \"properties\": {\n        \"dtype\": \"number\",\n        \"std\": 10.696847392119263,\n        \"min\": -27.716666666666665,\n        \"max\": 39.34444444444444,\n        \"num_unique_values\": 8984,\n        \"samples\": [\n          32.01111111111111,\n          3.1611111111111097\n        ],\n        \"semantic_type\": \"\",\n        \"description\": \"\"\n      }\n    },\n    {\n      \"column\": \"Humidity\",\n      \"properties\": {\n        \"dtype\": \"number\",\n        \"std\": 0.19547273906722662,\n        \"min\": 0.0,\n        \"max\": 1.0,\n        \"num_unique_values\": 90,\n        \"samples\": [\n          0.81,\n          0.8\n        ],\n        \"semantic_type\": \"\",\n        \"description\": \"\"\n      }\n    },\n    {\n      \"column\": \"Wind Speed (km/h)\",\n      \"properties\": {\n        \"dtype\": \"number\",\n        \"std\": 6.9135710125921515,\n        \"min\": 0.0,\n        \"max\": 63.8526,\n        \"num_unique_values\": 2484,\n        \"samples\": [\n          23.3611,\n          33.1016\n        ],\n        \"semantic_type\": \"\",\n        \"description\": \"\"\n      }\n    },\n    {\n      \"column\": \"Wind Bearing (degrees)\",\n      \"properties\": {\n        \"dtype\": \"number\",\n        \"std\": 107.38342838070538,\n        \"min\": 0.0,\n        \"max\": 359.0,\n        \"num_unique_values\": 360,\n        \"samples\": [\n          128.0,\n          15.0\n        ],\n        \"semantic_type\": \"\",\n        \"description\": \"\"\n      }\n    },\n    {\n      \"column\": \"Visibility (km)\",\n      \"properties\": {\n        \"dtype\": \"number\",\n        \"std\": 4.192123191422925,\n        \"min\": 0.0,\n        \"max\": 16.1,\n        \"num_unique_values\": 949,\n        \"samples\": [\n          4.395300000000001,\n          6.6332\n        ],\n        \"semantic_type\": \"\",\n        \"description\": \"\"\n      }\n    },\n    {\n      \"column\": \"Loud Cover\",\n      \"properties\": {\n        \"dtype\": \"number\",\n        \"std\": 0.0,\n        \"min\": 0.0,\n        \"max\": 0.0,\n        \"num_unique_values\": 1,\n        \"samples\": [\n          0.0\n        ],\n        \"semantic_type\": \"\",\n        \"description\": \"\"\n      }\n    },\n    {\n      \"column\": \"Pressure (millibars)\",\n      \"properties\": {\n        \"dtype\": \"number\",\n        \"std\": 116.96990568258147,\n        \"min\": 0.0,\n        \"max\": 1046.38,\n        \"num_unique_values\": 4979,\n        \"samples\": [\n          987.38\n        ],\n        \"semantic_type\": \"\",\n        \"description\": \"\"\n      }\n    },\n    {\n      \"column\": \"Daily Summary\",\n      \"properties\": {\n        \"dtype\": \"category\",\n        \"num_unique_values\": 214,\n        \"samples\": [\n          \"Partly cloudy until evening.\"\n        ],\n        \"semantic_type\": \"\",\n        \"description\": \"\"\n      }\n    }\n  ]\n}"
            }
          },
          "metadata": {},
          "execution_count": 3
        }
      ]
    },
    {
      "cell_type": "markdown",
      "source": [
        "Understanding the data structure"
      ],
      "metadata": {
        "id": "zhT4EEuRX8lS"
      }
    },
    {
      "cell_type": "code",
      "source": [
        "df.info()\n",
        "df.describe()\n",
        "df.columns"
      ],
      "metadata": {
        "colab": {
          "base_uri": "https://localhost:8080/"
        },
        "id": "38ydDMuxHXJl",
        "outputId": "cfb09e9f-1748-414f-a955-76939c2ae27d"
      },
      "execution_count": null,
      "outputs": [
        {
          "output_type": "stream",
          "name": "stdout",
          "text": [
            "<class 'pandas.core.frame.DataFrame'>\n",
            "RangeIndex: 96453 entries, 0 to 96452\n",
            "Data columns (total 12 columns):\n",
            " #   Column                    Non-Null Count  Dtype  \n",
            "---  ------                    --------------  -----  \n",
            " 0   Formatted Date            96453 non-null  object \n",
            " 1   Summary                   96453 non-null  object \n",
            " 2   Precip Type               95936 non-null  object \n",
            " 3   Temperature (C)           96453 non-null  float64\n",
            " 4   Apparent Temperature (C)  96453 non-null  float64\n",
            " 5   Humidity                  96453 non-null  float64\n",
            " 6   Wind Speed (km/h)         96453 non-null  float64\n",
            " 7   Wind Bearing (degrees)    96453 non-null  float64\n",
            " 8   Visibility (km)           96453 non-null  float64\n",
            " 9   Loud Cover                96453 non-null  float64\n",
            " 10  Pressure (millibars)      96453 non-null  float64\n",
            " 11  Daily Summary             96453 non-null  object \n",
            "dtypes: float64(8), object(4)\n",
            "memory usage: 8.8+ MB\n"
          ]
        },
        {
          "output_type": "execute_result",
          "data": {
            "text/plain": [
              "Index(['Formatted Date', 'Summary', 'Precip Type', 'Temperature (C)',\n",
              "       'Apparent Temperature (C)', 'Humidity', 'Wind Speed (km/h)',\n",
              "       'Wind Bearing (degrees)', 'Visibility (km)', 'Loud Cover',\n",
              "       'Pressure (millibars)', 'Daily Summary'],\n",
              "      dtype='object')"
            ]
          },
          "metadata": {},
          "execution_count": 4
        }
      ]
    },
    {
      "cell_type": "markdown",
      "source": [
        "Step 2: Data Transformation"
      ],
      "metadata": {
        "id": "vp_iKFY4YBUG"
      }
    },
    {
      "cell_type": "markdown",
      "source": [
        "Cleaning & Preprocessing"
      ],
      "metadata": {
        "id": "9Oweu4wmYPO8"
      }
    },
    {
      "cell_type": "code",
      "source": [
        "#First we drop the duplicates\n",
        "df = df.drop_duplicates()"
      ],
      "metadata": {
        "id": "kN4X_3LqYVug"
      },
      "execution_count": null,
      "outputs": []
    },
    {
      "cell_type": "code",
      "source": [
        "#Then we handle missing values\n",
        "df = df.dropna()"
      ],
      "metadata": {
        "id": "fyTKTD8XZSrZ"
      },
      "execution_count": null,
      "outputs": []
    },
    {
      "cell_type": "code",
      "source": [
        "#Then we convert date column to date time\n",
        "df['Formatted Date'] = pd.to_datetime(df['Formatted Date'])"
      ],
      "metadata": {
        "colab": {
          "base_uri": "https://localhost:8080/"
        },
        "id": "-13oLFKfZcSH",
        "outputId": "0625e24e-cbea-447e-de5c-86f36ff8919e"
      },
      "execution_count": null,
      "outputs": [
        {
          "output_type": "stream",
          "name": "stderr",
          "text": [
            "<ipython-input-7-8a849c10877d>:2: FutureWarning: In a future version of pandas, parsing datetimes with mixed time zones will raise an error unless `utc=True`. Please specify `utc=True` to opt in to the new behaviour and silence this warning. To create a `Series` with mixed offsets and `object` dtype, please use `apply` and `datetime.datetime.strptime`\n",
            "  df['Formatted Date'] = pd.to_datetime(df['Formatted Date'])\n"
          ]
        }
      ]
    },
    {
      "cell_type": "code",
      "source": [
        "#We can now check for the data types\n",
        "df.dtypes"
      ],
      "metadata": {
        "colab": {
          "base_uri": "https://localhost:8080/",
          "height": 460
        },
        "id": "Sf541WdWZks6",
        "outputId": "3b526be6-88c5-4747-cb04-1657835840be"
      },
      "execution_count": null,
      "outputs": [
        {
          "output_type": "execute_result",
          "data": {
            "text/plain": [
              "Formatted Date               object\n",
              "Summary                      object\n",
              "Precip Type                  object\n",
              "Temperature (C)             float64\n",
              "Apparent Temperature (C)    float64\n",
              "Humidity                    float64\n",
              "Wind Speed (km/h)           float64\n",
              "Wind Bearing (degrees)      float64\n",
              "Visibility (km)             float64\n",
              "Loud Cover                  float64\n",
              "Pressure (millibars)        float64\n",
              "Daily Summary                object\n",
              "dtype: object"
            ],
            "text/html": [
              "<div>\n",
              "<style scoped>\n",
              "    .dataframe tbody tr th:only-of-type {\n",
              "        vertical-align: middle;\n",
              "    }\n",
              "\n",
              "    .dataframe tbody tr th {\n",
              "        vertical-align: top;\n",
              "    }\n",
              "\n",
              "    .dataframe thead th {\n",
              "        text-align: right;\n",
              "    }\n",
              "</style>\n",
              "<table border=\"1\" class=\"dataframe\">\n",
              "  <thead>\n",
              "    <tr style=\"text-align: right;\">\n",
              "      <th></th>\n",
              "      <th>0</th>\n",
              "    </tr>\n",
              "  </thead>\n",
              "  <tbody>\n",
              "    <tr>\n",
              "      <th>Formatted Date</th>\n",
              "      <td>object</td>\n",
              "    </tr>\n",
              "    <tr>\n",
              "      <th>Summary</th>\n",
              "      <td>object</td>\n",
              "    </tr>\n",
              "    <tr>\n",
              "      <th>Precip Type</th>\n",
              "      <td>object</td>\n",
              "    </tr>\n",
              "    <tr>\n",
              "      <th>Temperature (C)</th>\n",
              "      <td>float64</td>\n",
              "    </tr>\n",
              "    <tr>\n",
              "      <th>Apparent Temperature (C)</th>\n",
              "      <td>float64</td>\n",
              "    </tr>\n",
              "    <tr>\n",
              "      <th>Humidity</th>\n",
              "      <td>float64</td>\n",
              "    </tr>\n",
              "    <tr>\n",
              "      <th>Wind Speed (km/h)</th>\n",
              "      <td>float64</td>\n",
              "    </tr>\n",
              "    <tr>\n",
              "      <th>Wind Bearing (degrees)</th>\n",
              "      <td>float64</td>\n",
              "    </tr>\n",
              "    <tr>\n",
              "      <th>Visibility (km)</th>\n",
              "      <td>float64</td>\n",
              "    </tr>\n",
              "    <tr>\n",
              "      <th>Loud Cover</th>\n",
              "      <td>float64</td>\n",
              "    </tr>\n",
              "    <tr>\n",
              "      <th>Pressure (millibars)</th>\n",
              "      <td>float64</td>\n",
              "    </tr>\n",
              "    <tr>\n",
              "      <th>Daily Summary</th>\n",
              "      <td>object</td>\n",
              "    </tr>\n",
              "  </tbody>\n",
              "</table>\n",
              "</div><br><label><b>dtype:</b> object</label>"
            ]
          },
          "metadata": {},
          "execution_count": 14
        }
      ]
    },
    {
      "cell_type": "markdown",
      "source": [
        "Normalization or Aggregation (Example: Convert temp to Celsius & Round)"
      ],
      "metadata": {
        "id": "KL8SmFiTZ29j"
      }
    },
    {
      "cell_type": "code",
      "source": [
        "# Normalize temperature (round to 1 decimal place)\n",
        "df['Temperature (C)'] = df['Temperature (C)'].round(1)\n"
      ],
      "metadata": {
        "id": "CT-1mBKfZ-Vd"
      },
      "execution_count": null,
      "outputs": []
    },
    {
      "cell_type": "code",
      "source": [
        "#'Formatted Date' is properly converted to datetime format\n",
        "df['Formatted Date'] = pd.to_datetime(df['Formatted Date'], errors='coerce')\n"
      ],
      "metadata": {
        "id": "PsxyVt51aeQm"
      },
      "execution_count": null,
      "outputs": []
    },
    {
      "cell_type": "code",
      "source": [
        "#Average temp per day\n",
        "#Group by just the DATE  and calculate daily average temperature\n",
        "#The .dt.date extracts the date portion from the datetime\n",
        "daily_avg = df.groupby(df['Formatted Date'].dt.date)['Temperature (C)'].mean().reset_index()\n",
        "daily_avg.columns = ['Date', 'Average Temp (C)']  #Rename columns for clarity\n",
        "# Preview the aggregated results\n",
        "daily_avg.head()\n",
        "\n"
      ],
      "metadata": {
        "colab": {
          "base_uri": "https://localhost:8080/",
          "height": 206
        },
        "id": "MxH20BlEaEKh",
        "outputId": "b63be10b-ea3f-4661-84b5-efdb49e1bf3a"
      },
      "execution_count": null,
      "outputs": [
        {
          "output_type": "execute_result",
          "data": {
            "text/plain": [
              "         Date  Average Temp (C)\n",
              "0  2006-03-26         12.833333\n",
              "1  2006-03-27         14.079167\n",
              "2  2006-03-28         13.954167\n",
              "3  2006-03-29         10.408333\n",
              "4  2006-03-30         11.133333"
            ],
            "text/html": [
              "\n",
              "  <div id=\"df-50f60279-5e50-4695-af25-85cda8e3abf6\" class=\"colab-df-container\">\n",
              "    <div>\n",
              "<style scoped>\n",
              "    .dataframe tbody tr th:only-of-type {\n",
              "        vertical-align: middle;\n",
              "    }\n",
              "\n",
              "    .dataframe tbody tr th {\n",
              "        vertical-align: top;\n",
              "    }\n",
              "\n",
              "    .dataframe thead th {\n",
              "        text-align: right;\n",
              "    }\n",
              "</style>\n",
              "<table border=\"1\" class=\"dataframe\">\n",
              "  <thead>\n",
              "    <tr style=\"text-align: right;\">\n",
              "      <th></th>\n",
              "      <th>Date</th>\n",
              "      <th>Average Temp (C)</th>\n",
              "    </tr>\n",
              "  </thead>\n",
              "  <tbody>\n",
              "    <tr>\n",
              "      <th>0</th>\n",
              "      <td>2006-03-26</td>\n",
              "      <td>12.833333</td>\n",
              "    </tr>\n",
              "    <tr>\n",
              "      <th>1</th>\n",
              "      <td>2006-03-27</td>\n",
              "      <td>14.079167</td>\n",
              "    </tr>\n",
              "    <tr>\n",
              "      <th>2</th>\n",
              "      <td>2006-03-28</td>\n",
              "      <td>13.954167</td>\n",
              "    </tr>\n",
              "    <tr>\n",
              "      <th>3</th>\n",
              "      <td>2006-03-29</td>\n",
              "      <td>10.408333</td>\n",
              "    </tr>\n",
              "    <tr>\n",
              "      <th>4</th>\n",
              "      <td>2006-03-30</td>\n",
              "      <td>11.133333</td>\n",
              "    </tr>\n",
              "  </tbody>\n",
              "</table>\n",
              "</div>\n",
              "    <div class=\"colab-df-buttons\">\n",
              "\n",
              "  <div class=\"colab-df-container\">\n",
              "    <button class=\"colab-df-convert\" onclick=\"convertToInteractive('df-50f60279-5e50-4695-af25-85cda8e3abf6')\"\n",
              "            title=\"Convert this dataframe to an interactive table.\"\n",
              "            style=\"display:none;\">\n",
              "\n",
              "  <svg xmlns=\"http://www.w3.org/2000/svg\" height=\"24px\" viewBox=\"0 -960 960 960\">\n",
              "    <path d=\"M120-120v-720h720v720H120Zm60-500h600v-160H180v160Zm220 220h160v-160H400v160Zm0 220h160v-160H400v160ZM180-400h160v-160H180v160Zm440 0h160v-160H620v160ZM180-180h160v-160H180v160Zm440 0h160v-160H620v160Z\"/>\n",
              "  </svg>\n",
              "    </button>\n",
              "\n",
              "  <style>\n",
              "    .colab-df-container {\n",
              "      display:flex;\n",
              "      gap: 12px;\n",
              "    }\n",
              "\n",
              "    .colab-df-convert {\n",
              "      background-color: #E8F0FE;\n",
              "      border: none;\n",
              "      border-radius: 50%;\n",
              "      cursor: pointer;\n",
              "      display: none;\n",
              "      fill: #1967D2;\n",
              "      height: 32px;\n",
              "      padding: 0 0 0 0;\n",
              "      width: 32px;\n",
              "    }\n",
              "\n",
              "    .colab-df-convert:hover {\n",
              "      background-color: #E2EBFA;\n",
              "      box-shadow: 0px 1px 2px rgba(60, 64, 67, 0.3), 0px 1px 3px 1px rgba(60, 64, 67, 0.15);\n",
              "      fill: #174EA6;\n",
              "    }\n",
              "\n",
              "    .colab-df-buttons div {\n",
              "      margin-bottom: 4px;\n",
              "    }\n",
              "\n",
              "    [theme=dark] .colab-df-convert {\n",
              "      background-color: #3B4455;\n",
              "      fill: #D2E3FC;\n",
              "    }\n",
              "\n",
              "    [theme=dark] .colab-df-convert:hover {\n",
              "      background-color: #434B5C;\n",
              "      box-shadow: 0px 1px 3px 1px rgba(0, 0, 0, 0.15);\n",
              "      filter: drop-shadow(0px 1px 2px rgba(0, 0, 0, 0.3));\n",
              "      fill: #FFFFFF;\n",
              "    }\n",
              "  </style>\n",
              "\n",
              "    <script>\n",
              "      const buttonEl =\n",
              "        document.querySelector('#df-50f60279-5e50-4695-af25-85cda8e3abf6 button.colab-df-convert');\n",
              "      buttonEl.style.display =\n",
              "        google.colab.kernel.accessAllowed ? 'block' : 'none';\n",
              "\n",
              "      async function convertToInteractive(key) {\n",
              "        const element = document.querySelector('#df-50f60279-5e50-4695-af25-85cda8e3abf6');\n",
              "        const dataTable =\n",
              "          await google.colab.kernel.invokeFunction('convertToInteractive',\n",
              "                                                    [key], {});\n",
              "        if (!dataTable) return;\n",
              "\n",
              "        const docLinkHtml = 'Like what you see? Visit the ' +\n",
              "          '<a target=\"_blank\" href=https://colab.research.google.com/notebooks/data_table.ipynb>data table notebook</a>'\n",
              "          + ' to learn more about interactive tables.';\n",
              "        element.innerHTML = '';\n",
              "        dataTable['output_type'] = 'display_data';\n",
              "        await google.colab.output.renderOutput(dataTable, element);\n",
              "        const docLink = document.createElement('div');\n",
              "        docLink.innerHTML = docLinkHtml;\n",
              "        element.appendChild(docLink);\n",
              "      }\n",
              "    </script>\n",
              "  </div>\n",
              "\n",
              "\n",
              "<div id=\"df-bf6b02be-eb69-4c7a-9cb0-971600589891\">\n",
              "  <button class=\"colab-df-quickchart\" onclick=\"quickchart('df-bf6b02be-eb69-4c7a-9cb0-971600589891')\"\n",
              "            title=\"Suggest charts\"\n",
              "            style=\"display:none;\">\n",
              "\n",
              "<svg xmlns=\"http://www.w3.org/2000/svg\" height=\"24px\"viewBox=\"0 0 24 24\"\n",
              "     width=\"24px\">\n",
              "    <g>\n",
              "        <path d=\"M19 3H5c-1.1 0-2 .9-2 2v14c0 1.1.9 2 2 2h14c1.1 0 2-.9 2-2V5c0-1.1-.9-2-2-2zM9 17H7v-7h2v7zm4 0h-2V7h2v10zm4 0h-2v-4h2v4z\"/>\n",
              "    </g>\n",
              "</svg>\n",
              "  </button>\n",
              "\n",
              "<style>\n",
              "  .colab-df-quickchart {\n",
              "      --bg-color: #E8F0FE;\n",
              "      --fill-color: #1967D2;\n",
              "      --hover-bg-color: #E2EBFA;\n",
              "      --hover-fill-color: #174EA6;\n",
              "      --disabled-fill-color: #AAA;\n",
              "      --disabled-bg-color: #DDD;\n",
              "  }\n",
              "\n",
              "  [theme=dark] .colab-df-quickchart {\n",
              "      --bg-color: #3B4455;\n",
              "      --fill-color: #D2E3FC;\n",
              "      --hover-bg-color: #434B5C;\n",
              "      --hover-fill-color: #FFFFFF;\n",
              "      --disabled-bg-color: #3B4455;\n",
              "      --disabled-fill-color: #666;\n",
              "  }\n",
              "\n",
              "  .colab-df-quickchart {\n",
              "    background-color: var(--bg-color);\n",
              "    border: none;\n",
              "    border-radius: 50%;\n",
              "    cursor: pointer;\n",
              "    display: none;\n",
              "    fill: var(--fill-color);\n",
              "    height: 32px;\n",
              "    padding: 0;\n",
              "    width: 32px;\n",
              "  }\n",
              "\n",
              "  .colab-df-quickchart:hover {\n",
              "    background-color: var(--hover-bg-color);\n",
              "    box-shadow: 0 1px 2px rgba(60, 64, 67, 0.3), 0 1px 3px 1px rgba(60, 64, 67, 0.15);\n",
              "    fill: var(--button-hover-fill-color);\n",
              "  }\n",
              "\n",
              "  .colab-df-quickchart-complete:disabled,\n",
              "  .colab-df-quickchart-complete:disabled:hover {\n",
              "    background-color: var(--disabled-bg-color);\n",
              "    fill: var(--disabled-fill-color);\n",
              "    box-shadow: none;\n",
              "  }\n",
              "\n",
              "  .colab-df-spinner {\n",
              "    border: 2px solid var(--fill-color);\n",
              "    border-color: transparent;\n",
              "    border-bottom-color: var(--fill-color);\n",
              "    animation:\n",
              "      spin 1s steps(1) infinite;\n",
              "  }\n",
              "\n",
              "  @keyframes spin {\n",
              "    0% {\n",
              "      border-color: transparent;\n",
              "      border-bottom-color: var(--fill-color);\n",
              "      border-left-color: var(--fill-color);\n",
              "    }\n",
              "    20% {\n",
              "      border-color: transparent;\n",
              "      border-left-color: var(--fill-color);\n",
              "      border-top-color: var(--fill-color);\n",
              "    }\n",
              "    30% {\n",
              "      border-color: transparent;\n",
              "      border-left-color: var(--fill-color);\n",
              "      border-top-color: var(--fill-color);\n",
              "      border-right-color: var(--fill-color);\n",
              "    }\n",
              "    40% {\n",
              "      border-color: transparent;\n",
              "      border-right-color: var(--fill-color);\n",
              "      border-top-color: var(--fill-color);\n",
              "    }\n",
              "    60% {\n",
              "      border-color: transparent;\n",
              "      border-right-color: var(--fill-color);\n",
              "    }\n",
              "    80% {\n",
              "      border-color: transparent;\n",
              "      border-right-color: var(--fill-color);\n",
              "      border-bottom-color: var(--fill-color);\n",
              "    }\n",
              "    90% {\n",
              "      border-color: transparent;\n",
              "      border-bottom-color: var(--fill-color);\n",
              "    }\n",
              "  }\n",
              "</style>\n",
              "\n",
              "  <script>\n",
              "    async function quickchart(key) {\n",
              "      const quickchartButtonEl =\n",
              "        document.querySelector('#' + key + ' button');\n",
              "      quickchartButtonEl.disabled = true;  // To prevent multiple clicks.\n",
              "      quickchartButtonEl.classList.add('colab-df-spinner');\n",
              "      try {\n",
              "        const charts = await google.colab.kernel.invokeFunction(\n",
              "            'suggestCharts', [key], {});\n",
              "      } catch (error) {\n",
              "        console.error('Error during call to suggestCharts:', error);\n",
              "      }\n",
              "      quickchartButtonEl.classList.remove('colab-df-spinner');\n",
              "      quickchartButtonEl.classList.add('colab-df-quickchart-complete');\n",
              "    }\n",
              "    (() => {\n",
              "      let quickchartButtonEl =\n",
              "        document.querySelector('#df-bf6b02be-eb69-4c7a-9cb0-971600589891 button');\n",
              "      quickchartButtonEl.style.display =\n",
              "        google.colab.kernel.accessAllowed ? 'block' : 'none';\n",
              "    })();\n",
              "  </script>\n",
              "</div>\n",
              "\n",
              "    </div>\n",
              "  </div>\n"
            ],
            "application/vnd.google.colaboratory.intrinsic+json": {
              "type": "dataframe",
              "variable_name": "daily_avg",
              "summary": "{\n  \"name\": \"daily_avg\",\n  \"rows\": 2356,\n  \"fields\": [\n    {\n      \"column\": \"Date\",\n      \"properties\": {\n        \"dtype\": \"date\",\n        \"min\": \"2006-03-26\",\n        \"max\": \"2016-10-29\",\n        \"num_unique_values\": 2356,\n        \"samples\": [\n          \"2009-04-23\",\n          \"2011-07-14\",\n          \"2013-08-18\"\n        ],\n        \"semantic_type\": \"\",\n        \"description\": \"\"\n      }\n    },\n    {\n      \"column\": \"Average Temp (C)\",\n      \"properties\": {\n        \"dtype\": \"number\",\n        \"std\": 5.4522981226417055,\n        \"min\": 3.016666666666667,\n        \"max\": 30.520833333333332,\n        \"num_unique_values\": 1892,\n        \"samples\": [\n          22.383333333333336,\n          13.2875,\n          11.004166666666668\n        ],\n        \"semantic_type\": \"\",\n        \"description\": \"\"\n      }\n    }\n  ]\n}"
            }
          },
          "metadata": {},
          "execution_count": 17
        }
      ]
    },
    {
      "cell_type": "markdown",
      "source": [
        "Adding a time of day column:"
      ],
      "metadata": {
        "id": "FvvMMnarxbWq"
      }
    },
    {
      "cell_type": "code",
      "source": [
        "def get_part_of_day(hour):\n",
        "    if 5 <= hour < 12:\n",
        "        return 'Morning'\n",
        "    elif 12 <= hour < 17:\n",
        "        return 'Afternoon'\n",
        "    elif 17 <= hour < 21:\n",
        "        return 'Evening'\n",
        "    else:\n",
        "        return 'Night'\n",
        "\n",
        "df['Hour'] = df['Formatted Date'].dt.hour\n",
        "df['Part of Day'] = df['Hour'].apply(get_part_of_day)\n"
      ],
      "metadata": {
        "id": "pxicGymSw0wG"
      },
      "execution_count": null,
      "outputs": []
    },
    {
      "cell_type": "code",
      "source": [
        "df['Weekday'] = df['Formatted Date'].dt.day_name()\n"
      ],
      "metadata": {
        "id": "FDb76K2fxi1m"
      },
      "execution_count": null,
      "outputs": []
    },
    {
      "cell_type": "markdown",
      "source": [
        "We cleaned the dataset by removing missing and duplicate rows. We normalized temperature values, converted timestamps, and added a ‘Part of Day’ feature based on the hour. This enables better temporal analysis in later stages."
      ],
      "metadata": {
        "id": "BY1DoD3Mxr27"
      }
    },
    {
      "cell_type": "markdown",
      "source": [
        "Step 3: Data Loading"
      ],
      "metadata": {
        "id": "E9c2g2LIy7n2"
      }
    },
    {
      "cell_type": "markdown",
      "source": [
        "Step 3.1: Set Up SQLite Connection"
      ],
      "metadata": {
        "id": "LgxCo_2HzKMe"
      }
    },
    {
      "cell_type": "code",
      "source": [
        "import sqlite3\n",
        "\n",
        "# Connect to SQLite (creates a new file in your Colab environment)\n",
        "conn = sqlite3.connect('weather_data.db')  # This file will be saved in the current directory\n",
        "\n",
        "# Optional: create a cursor to run raw SQL if needed\n",
        "cursor = conn.cursor()\n"
      ],
      "metadata": {
        "id": "dAy2vwhCzJhA"
      },
      "execution_count": null,
      "outputs": []
    },
    {
      "cell_type": "markdown",
      "source": [
        "Step 3.3: Run a Verification Query"
      ],
      "metadata": {
        "id": "CZ6QjEYozX5S"
      }
    },
    {
      "cell_type": "code",
      "source": [
        "import sqlite3\n",
        "import pandas as pd\n",
        "\n",
        "# 1. Connect to (or create) the database\n",
        "conn = sqlite3.connect('weather_data.db')\n"
      ],
      "metadata": {
        "id": "JDJoUMXYz_4K"
      },
      "execution_count": null,
      "outputs": []
    },
    {
      "cell_type": "markdown",
      "source": [
        "We used Python's built-in sqlite3 module.\n",
        "\n",
        "This line creates a new SQLite database file called weather_data.db in your Google Colab environment (or reuses it if it already exists)."
      ],
      "metadata": {
        "id": "ahxgn0oB5MEI"
      }
    },
    {
      "cell_type": "code",
      "source": [
        "# 2. Save the cleaned DataFrame (df) to a table\n",
        "df.to_sql('weather_cleaned', conn, if_exists='replace', index=False)\n"
      ],
      "metadata": {
        "colab": {
          "base_uri": "https://localhost:8080/"
        },
        "id": "47K63uEo5CCW",
        "outputId": "8c7c3833-2aa7-4b08-9e64-b7a5e17d1625"
      },
      "execution_count": null,
      "outputs": [
        {
          "output_type": "execute_result",
          "data": {
            "text/plain": [
              "95912"
            ]
          },
          "metadata": {},
          "execution_count": 22
        }
      ]
    },
    {
      "cell_type": "code",
      "source": [
        "# 3. Save the daily average DataFrame (daily_avg) to another table\n",
        "daily_avg.to_sql('daily_avg_temp', conn, if_exists='replace', index=False)"
      ],
      "metadata": {
        "colab": {
          "base_uri": "https://localhost:8080/"
        },
        "id": "ffWIR5u35Ff9",
        "outputId": "5c1425ee-7f7c-45c3-840e-55c32a1d0318"
      },
      "execution_count": null,
      "outputs": [
        {
          "output_type": "execute_result",
          "data": {
            "text/plain": [
              "2356"
            ]
          },
          "metadata": {},
          "execution_count": 43
        }
      ]
    },
    {
      "cell_type": "markdown",
      "source": [
        "We aggregated the aggregated average temperature per day. The saved them to two tables: 'weather_cleaned' and 'daily_avg_temp'."
      ],
      "metadata": {
        "id": "BkkeFwiP5g65"
      }
    },
    {
      "cell_type": "code",
      "source": [
        "# 5. Now run the verification queries\n",
        "result = pd.read_sql_query(\"SELECT COUNT(*) as row_count FROM weather_cleaned\", conn)\n",
        "print(\"Rows in 'weather_cleaned':\", result['row_count'][0])\n",
        "reult = pd.read_sql_query(\"SELECT COUNT(*) as row_count FROM daily_avg_temp\", conn)\n",
        "print(\"Rows in 'daily_avg_temp':\", result['row_count'][0])"
      ],
      "metadata": {
        "colab": {
          "base_uri": "https://localhost:8080/"
        },
        "id": "5DZK9VHK0B6w",
        "outputId": "19d94cd5-b699-46b9-e79a-c5898d8a0c0f"
      },
      "execution_count": null,
      "outputs": [
        {
          "output_type": "stream",
          "name": "stdout",
          "text": [
            "Rows in 'weather_cleaned': 95912\n",
            "Rows in 'daily_avg_temp': 95912\n"
          ]
        }
      ]
    },
    {
      "cell_type": "markdown",
      "source": [
        "We queried the database to confirm that the tables were successfully created and populated.\n",
        "Output like Rows in 'weather_cleaned' shows that the data is now stored.\n",
        "\n"
      ],
      "metadata": {
        "id": "RpO79QVT559l"
      }
    },
    {
      "cell_type": "markdown",
      "source": [
        "Step 4.1: Analyze the Data"
      ],
      "metadata": {
        "id": "ytCU9N-h6Xnv"
      }
    },
    {
      "cell_type": "code",
      "source": [
        "# Summary stats for temperature\n",
        "df['Temperature (C)'].describe()\n"
      ],
      "metadata": {
        "colab": {
          "base_uri": "https://localhost:8080/",
          "height": 335
        },
        "id": "Ih-YHCZT6YWY",
        "outputId": "a2752ac6-619a-4602-e93a-8b959ab4ea51"
      },
      "execution_count": null,
      "outputs": [
        {
          "output_type": "execute_result",
          "data": {
            "text/plain": [
              "count    95912.000000\n",
              "mean        11.938745\n",
              "std          9.569917\n",
              "min        -21.800000\n",
              "25%          4.600000\n",
              "50%         12.000000\n",
              "75%         18.800000\n",
              "max         39.900000\n",
              "Name: Temperature (C), dtype: float64"
            ],
            "text/html": [
              "<div>\n",
              "<style scoped>\n",
              "    .dataframe tbody tr th:only-of-type {\n",
              "        vertical-align: middle;\n",
              "    }\n",
              "\n",
              "    .dataframe tbody tr th {\n",
              "        vertical-align: top;\n",
              "    }\n",
              "\n",
              "    .dataframe thead th {\n",
              "        text-align: right;\n",
              "    }\n",
              "</style>\n",
              "<table border=\"1\" class=\"dataframe\">\n",
              "  <thead>\n",
              "    <tr style=\"text-align: right;\">\n",
              "      <th></th>\n",
              "      <th>Temperature (C)</th>\n",
              "    </tr>\n",
              "  </thead>\n",
              "  <tbody>\n",
              "    <tr>\n",
              "      <th>count</th>\n",
              "      <td>95912.000000</td>\n",
              "    </tr>\n",
              "    <tr>\n",
              "      <th>mean</th>\n",
              "      <td>11.938745</td>\n",
              "    </tr>\n",
              "    <tr>\n",
              "      <th>std</th>\n",
              "      <td>9.569917</td>\n",
              "    </tr>\n",
              "    <tr>\n",
              "      <th>min</th>\n",
              "      <td>-21.800000</td>\n",
              "    </tr>\n",
              "    <tr>\n",
              "      <th>25%</th>\n",
              "      <td>4.600000</td>\n",
              "    </tr>\n",
              "    <tr>\n",
              "      <th>50%</th>\n",
              "      <td>12.000000</td>\n",
              "    </tr>\n",
              "    <tr>\n",
              "      <th>75%</th>\n",
              "      <td>18.800000</td>\n",
              "    </tr>\n",
              "    <tr>\n",
              "      <th>max</th>\n",
              "      <td>39.900000</td>\n",
              "    </tr>\n",
              "  </tbody>\n",
              "</table>\n",
              "</div><br><label><b>dtype:</b> float64</label>"
            ]
          },
          "metadata": {},
          "execution_count": 25
        }
      ]
    },
    {
      "cell_type": "markdown",
      "source": [
        "Grouping (e.g., by part of day):"
      ],
      "metadata": {
        "id": "uqJiJDhNBp-X"
      }
    },
    {
      "cell_type": "code",
      "source": [
        "# Average temperature by part of day (a feature we created earlier)\n",
        "part_of_day_avg = df.groupby('Part of Day')['Temperature (C)'].mean().reset_index()\n",
        "print(part_of_day_avg)\n"
      ],
      "metadata": {
        "colab": {
          "base_uri": "https://localhost:8080/"
        },
        "id": "cN072tgZBnqC",
        "outputId": "67746ccb-8d72-4240-a3f8-f698ad5f2f84"
      },
      "execution_count": null,
      "outputs": [
        {
          "output_type": "stream",
          "name": "stdout",
          "text": [
            "  Part of Day  Temperature (C)\n",
            "0   Afternoon        22.856619\n",
            "1     Evening        20.874186\n",
            "2     Morning        16.373716\n",
            "3       Night         7.101484\n"
          ]
        }
      ]
    },
    {
      "cell_type": "markdown",
      "source": [
        "Step 4.2: Create Visualizations\n",
        "1. Line Chart of Daily Average Temperature"
      ],
      "metadata": {
        "id": "f3XcpLZQB-eu"
      }
    },
    {
      "cell_type": "code",
      "source": [
        "import matplotlib.pyplot as plt\n",
        "\n",
        "plt.figure(figsize=(12, 5))\n",
        "plt.plot(daily_avg['Date'], daily_avg['Average Temp (C)'], color='blue')\n",
        "plt.title('Daily Average Temperature')\n",
        "plt.xlabel('Date')\n",
        "plt.ylabel('Temperature (°C)')\n",
        "plt.xticks(rotation=45)\n",
        "plt.tight_layout()\n",
        "plt.grid(True)\n",
        "plt.show()\n"
      ],
      "metadata": {
        "colab": {
          "base_uri": "https://localhost:8080/",
          "height": 501
        },
        "id": "SgW1MyBFCAw2",
        "outputId": "f8242e35-b625-4716-cddd-fc78b3dfed03"
      },
      "execution_count": null,
      "outputs": [
        {
          "output_type": "display_data",
          "data": {
            "text/plain": [
              "<Figure size 1200x500 with 1 Axes>"
            ],
            "image/png": "[encoded data removed]"
          },
          "metadata": {}
        }
      ]
    },
    {
      "cell_type": "markdown",
      "source": [
        "2. Bar Chart: Average Temp by Part of Day\n"
      ],
      "metadata": {
        "id": "UIDTgTwfCkgJ"
      }
    },
    {
      "cell_type": "code",
      "source": [
        "import seaborn as sns\n",
        "\n",
        "sns.set_theme(style=\"whitegrid\")\n",
        "plt.figure(figsize=(8, 4))\n",
        "sns.barplot(data=part_of_day_avg, x='Part of Day', y='Temperature (C)', palette='coolwarm')\n",
        "plt.title('Average Temperature by Part of Day')\n",
        "plt.ylabel('Temperature (°C)')\n",
        "plt.show()\n"
      ],
      "metadata": {
        "colab": {
          "base_uri": "https://localhost:8080/",
          "height": 526
        },
        "id": "lRjWKs5LCmYW",
        "outputId": "4fb4d6b8-f97b-4738-945e-f91325e2c3e9"
      },
      "execution_count": null,
      "outputs": [
        {
          "output_type": "stream",
          "name": "stderr",
          "text": [
            "<ipython-input-34-ff245e7576ec>:5: FutureWarning: \n",
            "\n",
            "Passing `palette` without assigning `hue` is deprecated and will be removed in v0.14.0. Assign the `x` variable to `hue` and set `legend=False` for the same effect.\n",
            "\n",
            "  sns.barplot(data=part_of_day_avg, x='Part of Day', y='Temperature (C)', palette='coolwarm')\n"
          ]
        },
        {
          "output_type": "display_data",
          "data": {
            "text/plain": [
              "<Figure size 800x400 with 1 Axes>"
            ],
            "image/png": "[encoded data removed]"
          },
          "metadata": {}
        }
      ]
    },
    {
      "cell_type": "markdown",
      "source": [
        "Orchestration and Cloud Integration (Extra Credit)"
      ],
      "metadata": {
        "id": "IO4GfPhlUdnU"
      }
    },
    {
      "cell_type": "markdown",
      "source": [
        "The run_pipeline() code (if modularized)\n",
        "\n",
        "The auth.authenticate_user() block\n",
        "\n",
        "The to_gbq() upload code\n",
        "\n",
        "The SQL verification query"
      ],
      "metadata": {
        "id": "3m6ANjIrU2jk"
      }
    },
    {
      "cell_type": "markdown",
      "source": [
        "Step 1: Authenticate in Colab"
      ],
      "metadata": {
        "id": "qi2WlxCjWf1y"
      }
    },
    {
      "cell_type": "code",
      "source": [
        "from google.colab import auth\n",
        "auth.authenticate_user()\n"
      ],
      "metadata": {
        "id": "y2t6vS5yUdMW"
      },
      "execution_count": null,
      "outputs": []
    },
    {
      "cell_type": "markdown",
      "source": [
        "This will prompt a log in and authorize access to my GCP account."
      ],
      "metadata": {
        "id": "t1w_tNLHXKsx"
      }
    },
    {
      "cell_type": "markdown",
      "source": [
        "Step 2: Install pandas-gbq"
      ],
      "metadata": {
        "id": "rCF0s4fhXdBN"
      }
    },
    {
      "cell_type": "code",
      "source": [
        "!pip install -q pandas-gbq --upgrade\n"
      ],
      "metadata": {
        "id": "Sh-cxY9JXeWi"
      },
      "execution_count": null,
      "outputs": []
    },
    {
      "cell_type": "markdown",
      "source": [
        "Step 3: Create a BigQuery Dataset on GCP"
      ],
      "metadata": {
        "id": "msqpdwIpXtK1"
      }
    },
    {
      "cell_type": "code",
      "source": [
        "# First, make sure your authentication is valid\n",
        "from google.colab import auth\n",
        "auth.authenticate_user()\n",
        "\n",
        "# Create BigQuery client with project ID etl-final-project\n",
        "from google.cloud import bigquery\n",
        "project_id = \"etl-final-project\"  # Your project ID\n",
        "client = bigquery.Client(project=project_id)\n",
        "print(f\"Using project: {client.project}\")"
      ],
      "metadata": {
        "colab": {
          "base_uri": "https://localhost:8080/"
        },
        "id": "ee1fu-JqgqTL",
        "outputId": "1b21422e-a2ca-4ea6-9827-3a6c7274aa0f"
      },
      "execution_count": null,
      "outputs": [
        {
          "output_type": "stream",
          "name": "stdout",
          "text": [
            "Using project: etl-final-project\n"
          ]
        }
      ]
    },
    {
      "cell_type": "code",
      "source": [
        "# First, authenticate\n",
        "from google.colab import auth\n",
        "auth.authenticate_user()\n",
        "\n",
        "# Create BigQuery client project ID\n",
        "from google.cloud import bigquery\n",
        "project_id = \"etl-final-project\"\n",
        "client = bigquery.Client(project=project_id)\n",
        "\n",
        "# Let's print the column names to see what we're dealing with\n",
        "print(\"Original column names:\")\n",
        "for col in df.columns:\n",
        "    print(f\"- {col}\")\n",
        "\n",
        "# More thorough column name cleaning\n",
        "import re\n",
        "\n",
        "def clean_column_name(name):\n",
        "    # Replace any character that's not a letter, number, or underscore with an underscore\n",
        "    clean_name = re.sub(r'[^a-zA-Z0-9_]', '_', name)\n",
        "    # Ensure name starts with a letter or underscore (BigQuery requirement)\n",
        "    if clean_name[0].isdigit():\n",
        "        clean_name = '_' + clean_name\n",
        "    return clean_name\n",
        "\n",
        "# Applying thorough cleaning to both DataFrames\n",
        "#Necessary process because GCP is strict on variable format so everthing had to be changed\n",
        "df_clean = df.copy()\n",
        "df_clean.columns = [clean_column_name(col) for col in df_clean.columns]\n",
        "\n",
        "daily_avg_clean = daily_avg.copy()\n",
        "daily_avg_clean.columns = [clean_column_name(col) for col in daily_avg_clean.columns]\n",
        "\n",
        "# Print the cleaned column names\n",
        "print(\"\\nCleaned column names:\")\n",
        "for col in df_clean.columns:\n",
        "    print(f\"- {col}\")\n",
        "# Now upload the cleaned DataFrames to BigQuery\n",
        "from pandas_gbq import to_gbq\n",
        "\n",
        "# Upload main dataframe with clean column names\n",
        "to_gbq(df_clean,\n",
        "       'weather_data.weather_cleaned',\n",
        "       project_id=project_id,\n",
        "       if_exists='replace')\n",
        "# Upload daily averages with clean column names\n",
        "to_gbq(daily_avg_clean,\n",
        "       'weather_data.daily_avg_temp',\n",
        "       project_id=project_id,\n",
        "       if_exists='replace')\n",
        "print(\"Data successfully uploaded to BigQuery\")"
      ],
      "metadata": {
        "colab": {
          "base_uri": "https://localhost:8080/"
        },
        "id": "xzak8c_cxKAc",
        "outputId": "f2e7fb16-1d2b-4357-de21-c3fdd3f5d840"
      },
      "execution_count": null,
      "outputs": [
        {
          "output_type": "stream",
          "name": "stdout",
          "text": [
            "Original column names:\n",
            "- Formatted Date\n",
            "- Summary\n",
            "- Precip Type\n",
            "- Temperature (C)\n",
            "- Apparent Temperature (C)\n",
            "- Humidity\n",
            "- Wind Speed (km/h)\n",
            "- Wind Bearing (degrees)\n",
            "- Visibility (km)\n",
            "- Loud Cover\n",
            "- Pressure (millibars)\n",
            "- Daily Summary\n",
            "- Hour\n",
            "- Part of Day\n",
            "- Weekday\n",
            "\n",
            "Cleaned column names:\n",
            "- Formatted_Date\n",
            "- Summary\n",
            "- Precip_Type\n",
            "- Temperature__C_\n",
            "- Apparent_Temperature__C_\n",
            "- Humidity\n",
            "- Wind_Speed__km_h_\n",
            "- Wind_Bearing__degrees_\n",
            "- Visibility__km_\n",
            "- Loud_Cover\n",
            "- Pressure__millibars_\n",
            "- Daily_Summary\n",
            "- Hour\n",
            "- Part_of_Day\n",
            "- Weekday\n"
          ]
        },
        {
          "output_type": "stream",
          "name": "stderr",
          "text": [
            "100%|██████████| 1/1 [00:00<00:00, 8830.11it/s]\n",
            "100%|██████████| 1/1 [00:00<00:00, 6355.01it/s]"
          ]
        },
        {
          "output_type": "stream",
          "name": "stdout",
          "text": [
            "Data successfully uploaded to BigQuery\n"
          ]
        },
        {
          "output_type": "stream",
          "name": "stderr",
          "text": [
            "\n"
          ]
        }
      ]
    },
    {
      "cell_type": "markdown",
      "source": [
        "This approach uses regular expressions to thoroughly sanitize all column names, replacing any character that's not a letter, number, or underscore with an underscore. It also ensures the column name starts with a letter or underscore (as required by BigQuery).\n",
        "This more comprehensive cleaning should handle any problematic characters in your column names, including forward slashes, parentheses, spaces, and other special characters that BigQuery doesn't allow."
      ],
      "metadata": {
        "id": "Haquf9JDytoB"
      }
    },
    {
      "cell_type": "markdown",
      "source": [
        "Next we verify if the tables were created"
      ],
      "metadata": {
        "id": "7bH7WxsEAKFt"
      }
    },
    {
      "cell_type": "code",
      "source": [
        "# Verify tables were created\n",
        "tables = list(client.list_tables(f\"{project_id}.weather_data\"))\n",
        "print(\"Tables in dataset:\")\n",
        "for table in tables:\n",
        "    print(f\"- {table.table_id}\")\n",
        "\n",
        "# Check row count in the weather_cleaned table\n",
        "query = \"\"\"\n",
        "SELECT COUNT(*) as row_count\n",
        "FROM `weather_data.weather_cleaned`\n",
        "\"\"\"\n",
        "query_job = client.query(query)\n",
        "results = query_job.result()\n",
        "for row in results:\n",
        "    print(f\"Total rows in weather_cleaned table: {row.row_count}\")"
      ],
      "metadata": {
        "colab": {
          "base_uri": "https://localhost:8080/"
        },
        "id": "nP6jNmNtyzLw",
        "outputId": "5d72ea09-b209-44b1-c6eb-5fe2b8885c6e"
      },
      "execution_count": null,
      "outputs": [
        {
          "output_type": "stream",
          "name": "stdout",
          "text": [
            "Tables in dataset:\n",
            "- daily_avg_temp\n",
            "- weather_cleaned\n",
            "Total rows in weather_cleaned table: 95912\n"
          ]
        }
      ]
    },
    {
      "cell_type": "markdown",
      "source": [
        "Verify the Upload with a Query\n",
        "First, let's verify your data is properly loaded in BigQuery by running some queries:"
      ],
      "metadata": {
        "id": "PXpBLwt6zNIM"
      }
    },
    {
      "cell_type": "code",
      "source": [
        "# Verify tables were created\n",
        "tables = list(client.list_tables(f\"{project_id}.weather_data\"))\n",
        "print(\"Tables in dataset:\")\n",
        "for table in tables:\n",
        "    print(f\"- {table.table_id}\")\n",
        "\n",
        "# Check row count in the weather_cleaned table\n",
        "query = \"\"\"\n",
        "SELECT COUNT(*) as row_count\n",
        "FROM `weather_data.weather_cleaned`\n",
        "\"\"\"\n",
        "query_job = client.query(query)\n",
        "results = query_job.result()\n",
        "for row in results:\n",
        "    print(f\"Total rows in weather_cleaned table: {row.row_count}\")\n",
        "\n",
        "# Get a sample of the data to confirm it looks correct\n",
        "query = \"\"\"\n",
        "SELECT *\n",
        "FROM `weather_data.weather_cleaned`\n",
        "LIMIT 5\n",
        "\"\"\"\n",
        "sample_data = client.query(query).to_dataframe()\n",
        "print(\"\\nSample data from weather_cleaned:\")\n",
        "print(sample_data)"
      ],
      "metadata": {
        "colab": {
          "base_uri": "https://localhost:8080/"
        },
        "id": "t1wNwM8-zQla",
        "outputId": "c660d950-c0f6-4108-f2d8-6f02f4c243f4"
      },
      "execution_count": null,
      "outputs": [
        {
          "output_type": "stream",
          "name": "stdout",
          "text": [
            "Tables in dataset:\n",
            "- daily_avg_temp\n",
            "- weather_cleaned\n",
            "Total rows in weather_cleaned table: 95912\n",
            "\n",
            "Sample data from weather_cleaned:\n",
            "             Formatted_Date        Summary Precip_Type  Temperature__C_  \\\n",
            "0 2006-03-31 22:00:00+00:00  Partly Cloudy        rain              9.5   \n",
            "1 2006-03-31 23:00:00+00:00  Partly Cloudy        rain              9.4   \n",
            "2 2006-04-01 00:00:00+00:00  Mostly Cloudy        rain              9.4   \n",
            "3 2006-04-01 01:00:00+00:00  Partly Cloudy        rain              8.3   \n",
            "4 2006-04-01 02:00:00+00:00  Mostly Cloudy        rain              8.8   \n",
            "\n",
            "   Apparent_Temperature__C_  Humidity  Wind_Speed__km_h_  \\\n",
            "0                  7.388889      0.89            14.1197   \n",
            "1                  7.227778      0.86            14.2646   \n",
            "2                  9.377778      0.89             3.9284   \n",
            "3                  5.944444      0.83            14.1036   \n",
            "4                  6.977778      0.83            11.0446   \n",
            "\n",
            "   Wind_Bearing__degrees_  Visibility__km_  Loud_Cover  Pressure__millibars_  \\\n",
            "0                   251.0          15.8263         0.0               1015.13   \n",
            "1                   259.0          15.8263         0.0               1015.63   \n",
            "2                   204.0          14.9569         0.0               1015.94   \n",
            "3                   269.0          15.8263         0.0               1016.41   \n",
            "4                   259.0          15.8263         0.0               1016.51   \n",
            "\n",
            "                       Daily_Summary  Hour Part_of_Day   Weekday  \n",
            "0  Partly cloudy throughout the day.   0.0       Night  Saturday  \n",
            "1  Partly cloudy throughout the day.   1.0       Night  Saturday  \n",
            "2  Partly cloudy throughout the day.   2.0       Night  Saturday  \n",
            "3  Partly cloudy throughout the day.   3.0       Night  Saturday  \n",
            "4  Partly cloudy throughout the day.   4.0       Night  Saturday  \n"
          ]
        }
      ]
    },
    {
      "cell_type": "markdown",
      "source": [
        "Step 2: Run an Aggregation Query\n",
        "Let's run a more complex query to demonstrate that your data is ready for analysis:"
      ],
      "metadata": {
        "id": "4cvBjx5PzYGi"
      }
    },
    {
      "cell_type": "code",
      "source": [
        "# 1. Temperature statistics by part of day\n",
        "query = \"\"\"\n",
        "SELECT\n",
        "  Part_of_Day,\n",
        "  AVG(Temperature__C_) as avg_temp,\n",
        "  MIN(Temperature__C_) as min_temp,\n",
        "  MAX(Temperature__C_) as max_temp,\n",
        "  STDDEV(Temperature__C_) as std_temp,\n",
        "  COUNT(*) as count\n",
        "FROM\n",
        "  `weather_data.weather_cleaned`\n",
        "GROUP BY\n",
        "  Part_of_Day\n",
        "ORDER BY\n",
        "  avg_temp DESC\n",
        "\"\"\"\n",
        "results = client.query(query).to_dataframe()\n",
        "print(\"\\nTemperature statistics by part of day:\")\n",
        "print(results)\n",
        "\n",
        "# 2. Weather conditions count (most common weather types)\n",
        "query = \"\"\"\n",
        "SELECT\n",
        "  Summary,\n",
        "  COUNT(*) as count,\n",
        "  COUNT(*) * 100.0 / (SELECT COUNT(*) FROM `weather_data.weather_cleaned`) as percentage\n",
        "FROM\n",
        "  `weather_data.weather_cleaned`\n",
        "GROUP BY\n",
        "  Summary\n",
        "ORDER BY\n",
        "  count DESC\n",
        "LIMIT 10\n",
        "\"\"\"\n",
        "results = client.query(query).to_dataframe()\n",
        "print(\"\\nMost common weather conditions:\")\n",
        "print(results)\n",
        "\n",
        "# 3. Average temperature by weekday\n",
        "query = \"\"\"\n",
        "SELECT\n",
        "  Weekday,\n",
        "  AVG(Temperature__C_) as avg_temp,\n",
        "  AVG(Apparent_Temperature__C_) as avg_feels_like,\n",
        "  AVG(Humidity) as avg_humidity\n",
        "FROM\n",
        "  `weather_data.weather_cleaned`\n",
        "GROUP BY\n",
        "  Weekday\n",
        "ORDER BY\n",
        "  CASE\n",
        "    WHEN Weekday = 'Monday' THEN 1\n",
        "    WHEN Weekday = 'Tuesday' THEN 2\n",
        "    WHEN Weekday = 'Wednesday' THEN 3\n",
        "    WHEN Weekday = 'Thursday' THEN 4\n",
        "    WHEN Weekday = 'Friday' THEN 5\n",
        "    WHEN Weekday = 'Saturday' THEN 6\n",
        "    WHEN Weekday = 'Sunday' THEN 7\n",
        "  END\n",
        "\"\"\"\n",
        "results = client.query(query).to_dataframe()\n",
        "print(\"\\nAverage temperature by weekday:\")\n",
        "print(results)\n",
        "\n",
        "# 4. Correlation between temperature and humidity\n",
        "query = \"\"\"\n",
        "SELECT\n",
        "  CORR(Temperature__C_, Humidity) as temp_humidity_correlation,\n",
        "  CORR(Temperature__C_, Wind_Speed__km_h_) as temp_wind_correlation,\n",
        "  CORR(Temperature__C_, Pressure__millibars_) as temp_pressure_correlation,\n",
        "  CORR(Humidity, Wind_Speed__km_h_) as humidity_wind_correlation\n",
        "FROM\n",
        "  `weather_data.weather_cleaned`\n",
        "\"\"\"\n",
        "results = client.query(query).to_dataframe()\n",
        "print(\"\\nWeather correlations:\")\n",
        "print(results)\n",
        "\n",
        "# 5. Monthly temperature trends\n",
        "query = \"\"\"\n",
        "SELECT\n",
        "  EXTRACT(MONTH FROM CAST(Formatted_Date AS TIMESTAMP)) as month,\n",
        "  EXTRACT(YEAR FROM CAST(Formatted_Date AS TIMESTAMP)) as year,\n",
        "  AVG(Temperature__C_) as avg_temp,\n",
        "  AVG(Humidity) as avg_humidity,\n",
        "  AVG(Wind_Speed__km_h_) as avg_wind_speed\n",
        "FROM\n",
        "  `weather_data.weather_cleaned`\n",
        "GROUP BY\n",
        "  year, month\n",
        "ORDER BY\n",
        "  year, month\n",
        "\"\"\"\n",
        "results = client.query(query).to_dataframe()\n",
        "print(\"\\nMonthly temperature trends:\")\n",
        "print(results)\n",
        "\n",
        "# 6. Temperature difference: actual vs. apparent (feels like)\n",
        "query = \"\"\"\n",
        "SELECT\n",
        "  Part_of_Day,\n",
        "  AVG(Temperature__C_) as avg_actual_temp,\n",
        "  AVG(Apparent_Temperature__C_) as avg_feels_like_temp,\n",
        "  AVG(Apparent_Temperature__C_ - Temperature__C_) as avg_temp_difference\n",
        "FROM\n",
        "  `weather_data.weather_cleaned`\n",
        "GROUP BY\n",
        "  Part_of_Day\n",
        "ORDER BY\n",
        "  avg_temp_difference DESC\n",
        "\"\"\"\n",
        "results = client.query(query).to_dataframe()\n",
        "print(\"\\nTemperature difference (feels like vs actual):\")\n",
        "print(results)\n",
        "\n",
        "# 7. Analyzing precipitation types\n",
        "query = \"\"\"\n",
        "SELECT\n",
        "  Precip_Type,\n",
        "  COUNT(*) as count,\n",
        "  AVG(Temperature__C_) as avg_temp,\n",
        "  AVG(Humidity) as avg_humidity,\n",
        "  AVG(Wind_Speed__km_h_) as avg_wind_speed\n",
        "FROM\n",
        "  `weather_data.weather_cleaned`\n",
        "WHERE\n",
        "  Precip_Type IS NOT NULL\n",
        "GROUP BY\n",
        "  Precip_Type\n",
        "ORDER BY\n",
        "  count DESC\n",
        "\"\"\"\n",
        "results = client.query(query).to_dataframe()\n",
        "print(\"\\nPrecipitation type analysis:\")\n",
        "print(results)"
      ],
      "metadata": {
        "colab": {
          "base_uri": "https://localhost:8080/"
        },
        "id": "PD1SOJ5E3kNH",
        "outputId": "c788eec6-2d89-4a64-eb46-303777154e63"
      },
      "execution_count": null,
      "outputs": [
        {
          "output_type": "stream",
          "name": "stdout",
          "text": [
            "\n",
            "Temperature statistics by part of day:\n",
            "  Part_of_Day   avg_temp  min_temp  max_temp  std_temp  count\n",
            "0   Afternoon  22.856619       3.9      39.9  6.517763  11664\n",
            "1     Evening  20.874186       2.2      39.6  6.638429   9332\n",
            "2     Morning  16.373716      -6.1      36.6  6.508763  16356\n",
            "3       Night   7.101484     -21.8      30.9  7.571365  58560\n",
            "\n",
            "Most common weather conditions:\n",
            "                    Summary  count  percentage\n",
            "0             Partly Cloudy  31628   32.976061\n",
            "1             Mostly Cloudy  27914   29.103762\n",
            "2                  Overcast  16516   17.219952\n",
            "3                     Clear  10746   11.204020\n",
            "4                     Foggy   7117    7.420344\n",
            "5       Breezy and Overcast    528    0.550505\n",
            "6  Breezy and Mostly Cloudy    516    0.537993\n",
            "7  Breezy and Partly Cloudy    386    0.402452\n",
            "8     Dry and Partly Cloudy     86    0.089666\n",
            "9   Windy and Partly Cloudy     67    0.069856\n",
            "\n",
            "Average temperature by weekday:\n",
            "     Weekday   avg_temp  avg_feels_like  avg_humidity\n",
            "0       None   3.582114        1.288334      0.816603\n",
            "1     Monday  17.878218       17.652652      0.675735\n",
            "2    Tuesday  17.833496       17.611028      0.682164\n",
            "3  Wednesday  17.802021       17.539587      0.678571\n",
            "4   Thursday  17.900677       17.667786      0.674857\n",
            "5     Friday  18.037505       17.851186      0.674593\n",
            "6   Saturday  17.938378       17.786798      0.676755\n",
            "7     Sunday  17.854776       17.634448      0.673497\n",
            "\n",
            "Weather correlations:\n",
            "   temp_humidity_correlation  temp_wind_correlation  \\\n",
            "0                  -0.632223               0.008655   \n",
            "\n",
            "   temp_pressure_correlation  humidity_wind_correlation  \n",
            "0                  -0.005286                  -0.224697  \n",
            "\n",
            "Monthly temperature trends:\n",
            "    month  year   avg_temp  avg_humidity  avg_wind_speed\n",
            "0    <NA>  <NA>   3.582114      0.816603       11.745218\n",
            "1       3  2006  12.102098      0.702517       16.028057\n",
            "2       4  2006  12.634167      0.728625       10.930670\n",
            "3       5  2006  15.653763      0.721801       10.174161\n",
            "4       6  2006  19.356528      0.747125        8.834003\n",
            "..    ...   ...        ...           ...             ...\n",
            "84      6  2016  21.309583      0.733458        8.982391\n",
            "85      7  2016  22.787634      0.669328        9.131015\n",
            "86      8  2016  21.419892      0.674046        9.151378\n",
            "87      9  2016  18.468472      0.688833        6.849029\n",
            "88     10  2016  10.589877      0.827951       11.075846\n",
            "\n",
            "[89 rows x 5 columns]\n",
            "\n",
            "Temperature difference (feels like vs actual):\n",
            "  Part_of_Day  avg_actual_temp  avg_feels_like_temp  avg_temp_difference\n",
            "0     Evening        20.874186            20.752468            -0.121718\n",
            "1   Afternoon        22.856619            22.706037            -0.150582\n",
            "2     Morning        16.373716            16.114013            -0.259703\n",
            "3       Night         7.101484             5.455276            -1.646208\n",
            "\n",
            "Precipitation type analysis:\n",
            "  Precip_Type  count   avg_temp  avg_humidity  avg_wind_speed\n",
            "0        rain  85200  13.850888      0.718698       10.973324\n",
            "1        snow  10712  -3.269866      0.863263        9.481998\n"
          ]
        }
      ]
    },
    {
      "cell_type": "markdown",
      "source": [
        "ERROR HANDLING! AND LOGGING!"
      ],
      "metadata": {
        "id": "KOBG8x2DGS6T"
      }
    },
    {
      "cell_type": "code",
      "source": [
        "# -*- coding: utf-8 -*-\n",
        "\"\"\"ETL Pipeline_Project with Error Handling\n",
        "\n",
        "This script implements a complete ETL pipeline with robust error handling and logging\n",
        "\"\"\"\n",
        "\n",
        "# Import necessary libraries\n",
        "import pandas as pd\n",
        "import sqlite3\n",
        "import matplotlib.pyplot as plt\n",
        "import seaborn as sns\n",
        "import re\n",
        "import logging\n",
        "import sys\n",
        "import os\n",
        "from datetime import datetime\n",
        "from google.cloud import bigquery\n",
        "from pandas_gbq import to_gbq\n",
        "from google.colab import auth, files\n",
        "\n",
        "# Configure logging\n",
        "logging.basicConfig(\n",
        "    level=logging.INFO,\n",
        "    format='%(asctime)s - %(name)s - %(levelname)s - %(message)s',\n",
        "    handlers=[\n",
        "        logging.FileHandler(\"etl_pipeline.log\"),\n",
        "        logging.StreamHandler(sys.stdout)\n",
        "    ]\n",
        ")\n",
        "\n",
        "logger = logging.getLogger(\"weather_etl\")\n",
        "\n",
        "def extract_data():\n",
        "    \"\"\"\n",
        "    Extract data from CSV file\n",
        "\n",
        "    Returns:\n",
        "        DataFrame: Pandas DataFrame containing the raw data\n",
        "    \"\"\"\n",
        "    try:\n",
        "        logger.info(\"Starting data extraction phase\")\n",
        "\n",
        "        # Try to use an existing file first\n",
        "        if os.path.exists('weatherHistory1.csv'):\n",
        "            logger.info(\"Using existing CSV file\")\n",
        "        else:\n",
        "            # If file doesn't exist, prompt for upload\n",
        "            logger.info(\"CSV file not found, requesting upload\")\n",
        "            uploaded = files.upload()\n",
        "            if not uploaded:\n",
        "                raise FileNotFoundError(\"No file was uploaded\")\n",
        "\n",
        "        # Load the CSV file\n",
        "        df = pd.read_csv('weatherHistory1.csv')\n",
        "\n",
        "        # Validate the data has expected columns\n",
        "        required_columns = ['Formatted Date', 'Temperature (C)', 'Humidity']\n",
        "        missing_columns = [col for col in required_columns if col not in df.columns]\n",
        "\n",
        "        if missing_columns:\n",
        "            raise ValueError(f\"CSV is missing required columns: {missing_columns}\")\n",
        "\n",
        "        logger.info(f\"Successfully extracted data with {df.shape[0]} rows and {df.shape[1]} columns\")\n",
        "\n",
        "        # Log basic statistics for monitoring\n",
        "        logger.info(f\"Data extract summary: {len(df)} rows, {df.memory_usage().sum() / 1024**2:.2f} MB\")\n",
        "\n",
        "        return df\n",
        "\n",
        "    except FileNotFoundError as e:\n",
        "        logger.error(f\"File not found error: {str(e)}\")\n",
        "        raise\n",
        "    except pd.errors.ParserError as e:\n",
        "        logger.error(f\"CSV parsing error: {str(e)}\")\n",
        "        raise\n",
        "    except ValueError as e:\n",
        "        logger.error(f\"Value error during extraction: {str(e)}\")\n",
        "        raise\n",
        "    except Exception as e:\n",
        "        logger.error(f\"Unexpected error during extraction: {str(e)}\")\n",
        "        raise\n",
        "\n",
        "def transform_data(df):\n",
        "    \"\"\"\n",
        "    Clean and transform the data\n",
        "\n",
        "    Args:\n",
        "        df: Raw DataFrame to transform\n",
        "\n",
        "    Returns:\n",
        "        tuple: Transformed main DataFrame and daily average DataFrame\n",
        "    \"\"\"\n",
        "    try:\n",
        "        logger.info(\"Starting data transformation phase\")\n",
        "\n",
        "        # Check if DataFrame is empty\n",
        "        if df.empty:\n",
        "            raise ValueError(\"DataFrame is empty, cannot transform\")\n",
        "\n",
        "        # Track original row count for validation\n",
        "        original_row_count = len(df)\n",
        "        logger.info(f\"Original row count: {original_row_count}\")\n",
        "\n",
        "        # Create a copy to avoid modifying the original\n",
        "        df_transformed = df.copy()\n",
        "\n",
        "        # 1. Drop duplicates\n",
        "        try:\n",
        "            df_transformed = df_transformed.drop_duplicates()\n",
        "            logger.info(f\"Removed {original_row_count - len(df_transformed)} duplicate rows\")\n",
        "        except Exception as e:\n",
        "            logger.error(f\"Error removing duplicates: {str(e)}\")\n",
        "            raise\n",
        "\n",
        "        # 2. Handle missing values\n",
        "        try:\n",
        "            missing_before = df_transformed.isna().sum().sum()\n",
        "            df_transformed = df_transformed.dropna()\n",
        "            logger.info(f\"Dropped {missing_before} missing values\")\n",
        "        except Exception as e:\n",
        "            logger.error(f\"Error handling missing values: {str(e)}\")\n",
        "            raise\n",
        "\n",
        "        # 3. Convert date column to datetime\n",
        "        try:\n",
        "            df_transformed['Formatted Date'] = pd.to_datetime(df_transformed['Formatted Date'], errors='coerce')\n",
        "            # Drop rows where date conversion failed\n",
        "            invalid_dates = df_transformed['Formatted Date'].isna().sum()\n",
        "            if invalid_dates > 0:\n",
        "                df_transformed = df_transformed.dropna(subset=['Formatted Date'])\n",
        "                logger.warning(f\"Dropped {invalid_dates} rows with invalid dates\")\n",
        "        except Exception as e:\n",
        "            logger.error(f\"Error converting dates: {str(e)}\")\n",
        "            raise\n",
        "\n",
        "        # 4. Normalize temperature (round to 1 decimal place)\n",
        "        try:\n",
        "            df_transformed['Temperature (C)'] = df_transformed['Temperature (C)'].round(1)\n",
        "        except Exception as e:\n",
        "            logger.error(f\"Error normalizing temperature: {str(e)}\")\n",
        "            raise\n",
        "\n",
        "        # 5. Feature Engineering: Add time of day column\n",
        "        try:\n",
        "            def get_part_of_day(hour):\n",
        "                if 5 <= hour < 12:\n",
        "                    return 'Morning'\n",
        "                elif 12 <= hour < 17:\n",
        "                    return 'Afternoon'\n",
        "                elif 17 <= hour < 21:\n",
        "                    return 'Evening'\n",
        "                else:\n",
        "                    return 'Night'\n",
        "\n",
        "            df_transformed['Hour'] = df_transformed['Formatted Date'].dt.hour\n",
        "            df_transformed['Part of Day'] = df_transformed['Hour'].apply(get_part_of_day)\n",
        "            df_transformed['Weekday'] = df_transformed['Formatted Date'].dt.day_name()\n",
        "            logger.info(\"Successfully added time features (Hour, Part of Day, Weekday)\")\n",
        "        except Exception as e:\n",
        "            logger.error(f\"Error during feature engineering: {str(e)}\")\n",
        "            raise\n",
        "\n",
        "        # 6. Data Aggregation: Calculate daily average\n",
        "        try:\n",
        "            daily_avg = df_transformed.groupby(df_transformed['Formatted Date'].dt.date)['Temperature (C)'].mean().reset_index()\n",
        "            daily_avg.columns = ['Date', 'Average Temp (C)']\n",
        "            logger.info(f\"Created daily average temperature with {len(daily_avg)} days\")\n",
        "        except Exception as e:\n",
        "            logger.error(f\"Error calculating daily averages: {str(e)}\")\n",
        "            raise\n",
        "\n",
        "        # Log transformation summary\n",
        "        logger.info(f\"Transformation complete: {len(df_transformed)} rows remaining after cleaning\")\n",
        "        logger.info(f\"Transformation summary: Removed {original_row_count - len(df_transformed)} rows in total\")\n",
        "\n",
        "        return df_transformed, daily_avg\n",
        "\n",
        "    except Exception as e:\n",
        "        logger.error(f\"Transformation failed: {str(e)}\")\n",
        "        raise\n",
        "\n",
        "def load_to_sqlite(df, daily_avg):\n",
        "    \"\"\"\n",
        "    Load data to SQLite database\n",
        "\n",
        "    Args:\n",
        "        df: Main transformed DataFrame\n",
        "        daily_avg: Daily average temperature DataFrame\n",
        "\n",
        "    Returns:\n",
        "        sqlite3.Connection: Database connection\n",
        "    \"\"\"\n",
        "    try:\n",
        "        logger.info(\"Starting SQLite database loading phase\")\n",
        "\n",
        "        # Connect to SQLite database\n",
        "        db_path = 'weather_data.db'\n",
        "        conn = sqlite3.connect(db_path)\n",
        "\n",
        "        # Save DataFrames to tables\n",
        "        try:\n",
        "            df.to_sql('weather_cleaned', conn, if_exists='replace', index=False)\n",
        "            logger.info(f\"Successfully loaded {len(df)} rows to 'weather_cleaned' table\")\n",
        "        except sqlite3.Error as e:\n",
        "            logger.error(f\"SQLite error loading main table: {str(e)}\")\n",
        "            raise\n",
        "\n",
        "        try:\n",
        "            daily_avg.to_sql('daily_avg_temp', conn, if_exists='replace', index=False)\n",
        "            logger.info(f\"Successfully loaded {len(daily_avg)} rows to 'daily_avg_temp' table\")\n",
        "        except sqlite3.Error as e:\n",
        "            logger.error(f\"SQLite error loading daily average table: {str(e)}\")\n",
        "            raise\n",
        "\n",
        "        # Verify the data was loaded correctly\n",
        "        try:\n",
        "            cursor = conn.cursor()\n",
        "\n",
        "            # Check main table\n",
        "            cursor.execute(\"SELECT COUNT(*) as row_count FROM weather_cleaned\")\n",
        "            main_count = cursor.fetchone()[0]\n",
        "\n",
        "            # Check daily average table\n",
        "            cursor.execute(\"SELECT COUNT(*) as row_count FROM daily_avg_temp\")\n",
        "            daily_count = cursor.fetchone()[0]\n",
        "\n",
        "            if main_count != len(df) or daily_count != len(daily_avg):\n",
        "                logger.warning(f\"Row count mismatch! DataFrame: {len(df)}, SQLite: {main_count}\")\n",
        "            else:\n",
        "                logger.info(\"SQLite verification successful: row counts match\")\n",
        "\n",
        "        except sqlite3.Error as e:\n",
        "            logger.error(f\"Error verifying SQLite data: {str(e)}\")\n",
        "\n",
        "        return conn\n",
        "\n",
        "    except sqlite3.Error as e:\n",
        "        logger.error(f\"SQLite database error: {str(e)}\")\n",
        "        raise\n",
        "    except Exception as e:\n",
        "        logger.error(f\"Unexpected error during SQLite loading: {str(e)}\")\n",
        "        raise\n",
        "\n",
        "def load_to_bigquery(df, daily_avg):\n",
        "    \"\"\"\n",
        "    Load data to Google BigQuery\n",
        "\n",
        "    Args:\n",
        "        df: Main transformed DataFrame\n",
        "        daily_avg: Daily average temperature DataFrame\n",
        "\n",
        "    Returns:\n",
        "        bool: Success indicator\n",
        "    \"\"\"\n",
        "    try:\n",
        "        logger.info(\"Starting BigQuery loading phase\")\n",
        "\n",
        "        # Authenticate\n",
        "        try:\n",
        "            auth.authenticate_user()\n",
        "            logger.info(\"Authentication successful\")\n",
        "        except Exception as e:\n",
        "            logger.error(f\"Authentication failed: {str(e)}\")\n",
        "            raise\n",
        "\n",
        "        # Set project ID\n",
        "        project_id = \"etl-final-project\"\n",
        "\n",
        "        # Create BigQuery client\n",
        "        try:\n",
        "            client = bigquery.Client(project=project_id)\n",
        "            logger.info(f\"Connected to BigQuery project: {client.project}\")\n",
        "        except Exception as e:\n",
        "            logger.error(f\"Failed to create BigQuery client: {str(e)}\")\n",
        "            raise\n",
        "\n",
        "        # Clean column names for BigQuery compatibility\n",
        "        try:\n",
        "            def clean_column_name(name):\n",
        "                # Replace any character that's not a letter, number, or underscore with an underscore\n",
        "                clean_name = re.sub(r'[^a-zA-Z0-9_]', '_', name)\n",
        "                # Ensure name starts with a letter or underscore (BigQuery requirement)\n",
        "                if clean_name[0].isdigit():\n",
        "                    clean_name = '_' + clean_name\n",
        "                return clean_name\n",
        "\n",
        "            # Apply column name cleaning to both DataFrames\n",
        "            df_clean = df.copy()\n",
        "            df_clean.columns = [clean_column_name(col) for col in df_clean.columns]\n",
        "\n",
        "            daily_avg_clean = daily_avg.copy()\n",
        "            daily_avg_clean.columns = [clean_column_name(col) for col in daily_avg_clean.columns]\n",
        "\n",
        "            logger.info(\"Column names cleaned for BigQuery compatibility\")\n",
        "        except Exception as e:\n",
        "            logger.error(f\"Error cleaning column names: {str(e)}\")\n",
        "            raise\n",
        "\n",
        "        # Upload main table\n",
        "        try:\n",
        "            to_gbq(df_clean,\n",
        "                   'weather_data.weather_cleaned',\n",
        "                   project_id=project_id,\n",
        "                   if_exists='replace')\n",
        "            logger.info(f\"Successfully uploaded {len(df_clean)} rows to BigQuery table 'weather_data.weather_cleaned'\")\n",
        "        except Exception as e:\n",
        "            logger.error(f\"Error uploading main table to BigQuery: {str(e)}\")\n",
        "            raise\n",
        "\n",
        "        # Upload daily average table\n",
        "        try:\n",
        "            to_gbq(daily_avg_clean,\n",
        "                   'weather_data.daily_avg_temp',\n",
        "                   project_id=project_id,\n",
        "                   if_exists='replace')\n",
        "            logger.info(f\"Successfully uploaded {len(daily_avg_clean)} rows to BigQuery table 'weather_data.daily_avg_temp'\")\n",
        "        except Exception as e:\n",
        "            logger.error(f\"Error uploading daily average table to BigQuery: {str(e)}\")\n",
        "            raise\n",
        "\n",
        "        # Verify tables were created\n",
        "        try:\n",
        "            tables = list(client.list_tables(f\"{project_id}.weather_data\"))\n",
        "            table_names = [table.table_id for table in tables]\n",
        "\n",
        "            if 'weather_cleaned' not in table_names or 'daily_avg_temp' not in table_names:\n",
        "                logger.warning(f\"Not all tables were created. Found: {table_names}\")\n",
        "            else:\n",
        "                logger.info(\"BigQuery tables verified successfully\")\n",
        "\n",
        "            # Verify row counts\n",
        "            query = \"\"\"\n",
        "            SELECT COUNT(*) as row_count\n",
        "            FROM `weather_data.weather_cleaned`\n",
        "            \"\"\"\n",
        "            query_job = client.query(query)\n",
        "            results = query_job.result()\n",
        "            for row in results:\n",
        "                bq_count = row.row_count\n",
        "\n",
        "            if bq_count != len(df_clean):\n",
        "                logger.warning(f\"BigQuery row count mismatch! DataFrame: {len(df_clean)}, BigQuery: {bq_count}\")\n",
        "            else:\n",
        "                logger.info(\"BigQuery data verification successful\")\n",
        "\n",
        "        except Exception as e:\n",
        "            logger.error(f\"Error verifying BigQuery tables: {str(e)}\")\n",
        "\n",
        "        return True\n",
        "\n",
        "    except Exception as e:\n",
        "        logger.error(f\"BigQuery loading failed: {str(e)}\")\n",
        "        return False\n",
        "\n",
        "def create_visualizations(df, daily_avg):\n",
        "    \"\"\"\n",
        "    Create basic visualizations\n",
        "\n",
        "    Args:\n",
        "        df: Main transformed DataFrame\n",
        "        daily_avg: Daily average temperature DataFrame\n",
        "    \"\"\"\n",
        "    try:\n",
        "        logger.info(\"Creating visualizations\")\n",
        "\n",
        "        # 1. Line Chart of Daily Average Temperature\n",
        "        try:\n",
        "            plt.figure(figsize=(12, 5))\n",
        "            plt.plot(daily_avg['Date'], daily_avg['Average Temp (C)'], color='blue')\n",
        "            plt.title('Daily Average Temperature')\n",
        "            plt.xlabel('Date')\n",
        "            plt.ylabel('Temperature (°C)')\n",
        "            plt.xticks(rotation=45)\n",
        "            plt.tight_layout()\n",
        "            plt.grid(True)\n",
        "            plt.savefig('daily_avg_temp.png')\n",
        "            logger.info(\"Created daily average temperature chart\")\n",
        "        except Exception as e:\n",
        "            logger.error(f\"Error creating daily average chart: {str(e)}\")\n",
        "\n",
        "        # 2. Bar Chart: Average Temp by Part of Day\n",
        "        try:\n",
        "            # Calculate average temperature by part of day\n",
        "            part_of_day_avg = df.groupby('Part of Day')['Temperature (C)'].mean().reset_index()\n",
        "\n",
        "            sns.set_theme(style=\"whitegrid\")\n",
        "            plt.figure(figsize=(8, 4))\n",
        "            sns.barplot(data=part_of_day_avg, x='Part of Day', y='Temperature (C)', palette='coolwarm')\n",
        "            plt.title('Average Temperature by Part of Day')\n",
        "            plt.ylabel('Temperature (°C)')\n",
        "            plt.savefig('temp_by_part_of_day.png')\n",
        "            logger.info(\"Created temperature by part of day chart\")\n",
        "        except Exception as e:\n",
        "            logger.error(f\"Error creating part of day chart: {str(e)}\")\n",
        "\n",
        "    except Exception as e:\n",
        "        logger.error(f\"Visualization creation failed: {str(e)}\")\n",
        "\n",
        "def run_pipeline():\n",
        "    \"\"\"\n",
        "    Main function to run the ETL pipeline\n",
        "    \"\"\"\n",
        "    logger.info(\"=\"*50)\n",
        "    logger.info(\"Starting ETL Pipeline: \" + datetime.now().strftime(\"%Y-%m-%d %H:%M:%S\"))\n",
        "    logger.info(\"=\"*50)\n",
        "\n",
        "    success = False\n",
        "\n",
        "    try:\n",
        "        # EXTRACT\n",
        "        raw_data = extract_data()\n",
        "\n",
        "        # TRANSFORM\n",
        "        transformed_data, daily_avg_data = transform_data(raw_data)\n",
        "\n",
        "        # LOAD\n",
        "        # SQLite\n",
        "        sqlite_conn = load_to_sqlite(transformed_data, daily_avg_data)\n",
        "\n",
        "        # BigQuery\n",
        "        bigquery_success = load_to_bigquery(transformed_data, daily_avg_data)\n",
        "\n",
        "        # Create visualizations\n",
        "        create_visualizations(transformed_data, daily_avg_data)\n",
        "\n",
        "        success = True\n",
        "        logger.info(\"ETL Pipeline completed successfully!\")\n",
        "\n",
        "    except Exception as e:\n",
        "        logger.error(f\"ETL Pipeline failed: {str(e)}\")\n",
        "\n",
        "    finally:\n",
        "        end_time = datetime.now().strftime(\"%Y-%m-%d %H:%M:%S\")\n",
        "        logger.info(f\"ETL Pipeline ended at: {end_time}\")\n",
        "        logger.info(f\"Pipeline status: {'Success' if success else 'Failed'}\")\n",
        "        logger.info(\"=\"*50)\n",
        "\n",
        "    return success\n",
        "\n",
        "# Run the pipeline if this file is run directly\n",
        "if __name__ == \"__main__\":\n",
        "    run_pipeline()"
      ],
      "metadata": {
        "colab": {
          "base_uri": "https://localhost:8080/"
        },
        "id": "Wgd96VO0zkQ1",
        "outputId": "084a6227-b074-4b52-9f18-6015933295c0"
      },
      "execution_count": null,
      "outputs": [
        {
          "output_type": "stream",
          "name": "stderr",
          "text": [
            "<ipython-input-59-781abe4540d1>:126: FutureWarning: In a future version of pandas, parsing datetimes with mixed time zones will raise an error unless `utc=True`. Please specify `utc=True` to opt in to the new behaviour and silence this warning. To create a `Series` with mixed offsets and `object` dtype, please use `apply` and `datetime.datetime.strptime`\n",
            "  df_transformed['Formatted Date'] = pd.to_datetime(df_transformed['Formatted Date'], errors='coerce')\n",
            "ERROR:weather_etl:Error during feature engineering: Can only use .dt accessor with datetimelike values\n",
            "ERROR:weather_etl:Transformation failed: Can only use .dt accessor with datetimelike values\n",
            "ERROR:weather_etl:ETL Pipeline failed: Can only use .dt accessor with datetimelike values\n"
          ]
        }
      ]
    }
  ]
}